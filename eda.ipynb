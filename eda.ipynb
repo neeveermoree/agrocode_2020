{
 "metadata": {
  "language_info": {
   "codemirror_mode": {
    "name": "ipython",
    "version": 3
   },
   "file_extension": ".py",
   "mimetype": "text/x-python",
   "name": "python",
   "nbconvert_exporter": "python",
   "pygments_lexer": "ipython3",
   "version": "3.7.7-final"
  },
  "orig_nbformat": 2,
  "kernelspec": {
   "name": "python3",
   "display_name": "Python 3"
  }
 },
 "nbformat": 4,
 "nbformat_minor": 2,
 "cells": [
  {
   "cell_type": "code",
   "execution_count": 34,
   "metadata": {},
   "outputs": [],
   "source": [
    "import numpy as np\n",
    "import pandas as pd\n",
    "from pathlib import Path\n",
    "from matplotlib import pyplot as plt"
   ]
  },
  {
   "cell_type": "code",
   "execution_count": 17,
   "metadata": {},
   "outputs": [
    {
     "output_type": "stream",
     "name": "stdout",
     "text": [
      "Baseline-agrocode-task1.ipynb\tpreds.csv  train.csv\nexample_csv_agrocode-task1.csv\ttest.csv\n"
     ]
    }
   ],
   "source": [
    "!ls data/raw"
   ]
  },
  {
   "cell_type": "code",
   "execution_count": 109,
   "metadata": {},
   "outputs": [],
   "source": [
    "DATA_FOLDER = Path('data')\n",
    "RAW_DATA_FOLDER = DATA_FOLDER / 'raw'\n",
    "SUBMISSIONS_DATA_FOLDER = DATA_FOLDER / 'submissions'\n",
    "\n",
    "train = pd.read_csv(RAW_DATA_FOLDER / 'train.csv')\n",
    "test = pd.read_csv(RAW_DATA_FOLDER / 'test.csv')"
   ]
  },
  {
   "cell_type": "code",
   "execution_count": 19,
   "metadata": {},
   "outputs": [
    {
     "output_type": "execute_result",
     "data": {
      "text/plain": [
       "   Year  Field ID  Field Area   Day 1   Day 2   Day 3   Day 4   Day 5   Day 6  \\\n",
       "0  2018       517       48.64  0.5369  0.5371  0.5375  0.5379  0.5384  0.5390   \n",
       "1  2019      1395       80.41  0.1159  0.1096  0.1034  0.0971  0.0909  0.0846   \n",
       "2  2017        44       43.64 -0.0204 -0.0207 -0.0210 -0.0212 -0.0215 -0.0218   \n",
       "3  2018      1591       79.34  0.4827  0.4576  0.4324  0.4073  0.3821  0.3570   \n",
       "4  2017       681      144.76 -0.0202 -0.0191 -0.0181 -0.0170 -0.0160 -0.0150   \n",
       "\n",
       "    Day 7  ...  Day 358  Day 359  Day 360  Day 361  Day 362  Day 363  Day 364  \\\n",
       "0  0.5397  ...   0.4362   0.4322   0.4283   0.4243   0.4203   0.4163   0.4123   \n",
       "1  0.0783  ...      NaN      NaN      NaN      NaN      NaN      NaN      NaN   \n",
       "2 -0.0220  ...   0.0833   0.1149   0.1466   0.1782   0.2099   0.2415   0.2732   \n",
       "3  0.3318  ...   0.2657   0.2668   0.2680   0.2692   0.2705   0.2717   0.2730   \n",
       "4 -0.0140  ...  -0.0354  -0.0358  -0.0361  -0.0365  -0.0369  -0.0372  -0.0376   \n",
       "\n",
       "   Day 365  Day 366  Culture  \n",
       "0   0.4084      NaN        4  \n",
       "1      NaN      NaN       17  \n",
       "2   0.3048      NaN        2  \n",
       "3   0.2743      NaN        4  \n",
       "4  -0.0379      NaN        4  \n",
       "\n",
       "[5 rows x 370 columns]"
      ],
      "text/html": "<div>\n<style scoped>\n    .dataframe tbody tr th:only-of-type {\n        vertical-align: middle;\n    }\n\n    .dataframe tbody tr th {\n        vertical-align: top;\n    }\n\n    .dataframe thead th {\n        text-align: right;\n    }\n</style>\n<table border=\"1\" class=\"dataframe\">\n  <thead>\n    <tr style=\"text-align: right;\">\n      <th></th>\n      <th>Year</th>\n      <th>Field ID</th>\n      <th>Field Area</th>\n      <th>Day 1</th>\n      <th>Day 2</th>\n      <th>Day 3</th>\n      <th>Day 4</th>\n      <th>Day 5</th>\n      <th>Day 6</th>\n      <th>Day 7</th>\n      <th>...</th>\n      <th>Day 358</th>\n      <th>Day 359</th>\n      <th>Day 360</th>\n      <th>Day 361</th>\n      <th>Day 362</th>\n      <th>Day 363</th>\n      <th>Day 364</th>\n      <th>Day 365</th>\n      <th>Day 366</th>\n      <th>Culture</th>\n    </tr>\n  </thead>\n  <tbody>\n    <tr>\n      <th>0</th>\n      <td>2018</td>\n      <td>517</td>\n      <td>48.64</td>\n      <td>0.5369</td>\n      <td>0.5371</td>\n      <td>0.5375</td>\n      <td>0.5379</td>\n      <td>0.5384</td>\n      <td>0.5390</td>\n      <td>0.5397</td>\n      <td>...</td>\n      <td>0.4362</td>\n      <td>0.4322</td>\n      <td>0.4283</td>\n      <td>0.4243</td>\n      <td>0.4203</td>\n      <td>0.4163</td>\n      <td>0.4123</td>\n      <td>0.4084</td>\n      <td>NaN</td>\n      <td>4</td>\n    </tr>\n    <tr>\n      <th>1</th>\n      <td>2019</td>\n      <td>1395</td>\n      <td>80.41</td>\n      <td>0.1159</td>\n      <td>0.1096</td>\n      <td>0.1034</td>\n      <td>0.0971</td>\n      <td>0.0909</td>\n      <td>0.0846</td>\n      <td>0.0783</td>\n      <td>...</td>\n      <td>NaN</td>\n      <td>NaN</td>\n      <td>NaN</td>\n      <td>NaN</td>\n      <td>NaN</td>\n      <td>NaN</td>\n      <td>NaN</td>\n      <td>NaN</td>\n      <td>NaN</td>\n      <td>17</td>\n    </tr>\n    <tr>\n      <th>2</th>\n      <td>2017</td>\n      <td>44</td>\n      <td>43.64</td>\n      <td>-0.0204</td>\n      <td>-0.0207</td>\n      <td>-0.0210</td>\n      <td>-0.0212</td>\n      <td>-0.0215</td>\n      <td>-0.0218</td>\n      <td>-0.0220</td>\n      <td>...</td>\n      <td>0.0833</td>\n      <td>0.1149</td>\n      <td>0.1466</td>\n      <td>0.1782</td>\n      <td>0.2099</td>\n      <td>0.2415</td>\n      <td>0.2732</td>\n      <td>0.3048</td>\n      <td>NaN</td>\n      <td>2</td>\n    </tr>\n    <tr>\n      <th>3</th>\n      <td>2018</td>\n      <td>1591</td>\n      <td>79.34</td>\n      <td>0.4827</td>\n      <td>0.4576</td>\n      <td>0.4324</td>\n      <td>0.4073</td>\n      <td>0.3821</td>\n      <td>0.3570</td>\n      <td>0.3318</td>\n      <td>...</td>\n      <td>0.2657</td>\n      <td>0.2668</td>\n      <td>0.2680</td>\n      <td>0.2692</td>\n      <td>0.2705</td>\n      <td>0.2717</td>\n      <td>0.2730</td>\n      <td>0.2743</td>\n      <td>NaN</td>\n      <td>4</td>\n    </tr>\n    <tr>\n      <th>4</th>\n      <td>2017</td>\n      <td>681</td>\n      <td>144.76</td>\n      <td>-0.0202</td>\n      <td>-0.0191</td>\n      <td>-0.0181</td>\n      <td>-0.0170</td>\n      <td>-0.0160</td>\n      <td>-0.0150</td>\n      <td>-0.0140</td>\n      <td>...</td>\n      <td>-0.0354</td>\n      <td>-0.0358</td>\n      <td>-0.0361</td>\n      <td>-0.0365</td>\n      <td>-0.0369</td>\n      <td>-0.0372</td>\n      <td>-0.0376</td>\n      <td>-0.0379</td>\n      <td>NaN</td>\n      <td>4</td>\n    </tr>\n  </tbody>\n</table>\n<p>5 rows × 370 columns</p>\n</div>"
     },
     "metadata": {},
     "execution_count": 19
    }
   ],
   "source": [
    "train.head()"
   ]
  },
  {
   "cell_type": "code",
   "execution_count": 20,
   "metadata": {},
   "outputs": [
    {
     "output_type": "execute_result",
     "data": {
      "text/plain": [
       "      Year  Field ID  Field Area   Day 1   Day 2   Day 3   Day 4   Day 5  \\\n",
       "2833  2019      1631      117.04  0.4429  0.4430  0.4430  0.4431  0.4431   \n",
       "2834  2016       336       70.61  0.0620  0.0687  0.0755  0.0822  0.0890   \n",
       "2835  2016       371       60.26  0.0460  0.0399  0.0338  0.0277  0.0216   \n",
       "2836  2017       115      237.86 -0.0148 -0.0149 -0.0150 -0.0151 -0.0153   \n",
       "2837  2018       215       48.86  0.2593  0.2590  0.2589  0.2588  0.2589   \n",
       "\n",
       "       Day 6   Day 7  ...  Day 358  Day 359  Day 360  Day 361  Day 362  \\\n",
       "2833  0.4431  0.4431  ...      NaN      NaN      NaN      NaN      NaN   \n",
       "2834  0.0957  0.1025  ...   0.0041   0.0173   0.0304   0.0436   0.0567   \n",
       "2835  0.0154  0.0093  ...   0.3555   0.3506   0.3458   0.3409   0.3361   \n",
       "2836 -0.0154 -0.0155  ...   0.0362   0.0458   0.0555   0.0651   0.0747   \n",
       "2837  0.2590  0.2592  ...   0.1462   0.1510   0.1559   0.1607   0.1655   \n",
       "\n",
       "      Day 363  Day 364  Day 365  Day 366  Culture  \n",
       "2833      NaN      NaN      NaN      NaN        4  \n",
       "2834   0.0699   0.0830   0.0962   0.1093        4  \n",
       "2835   0.3313   0.3264   0.3216   0.3167        4  \n",
       "2836   0.0843   0.0939   0.1035      NaN        5  \n",
       "2837   0.1703   0.1752   0.1800      NaN        7  \n",
       "\n",
       "[5 rows x 370 columns]"
      ],
      "text/html": "<div>\n<style scoped>\n    .dataframe tbody tr th:only-of-type {\n        vertical-align: middle;\n    }\n\n    .dataframe tbody tr th {\n        vertical-align: top;\n    }\n\n    .dataframe thead th {\n        text-align: right;\n    }\n</style>\n<table border=\"1\" class=\"dataframe\">\n  <thead>\n    <tr style=\"text-align: right;\">\n      <th></th>\n      <th>Year</th>\n      <th>Field ID</th>\n      <th>Field Area</th>\n      <th>Day 1</th>\n      <th>Day 2</th>\n      <th>Day 3</th>\n      <th>Day 4</th>\n      <th>Day 5</th>\n      <th>Day 6</th>\n      <th>Day 7</th>\n      <th>...</th>\n      <th>Day 358</th>\n      <th>Day 359</th>\n      <th>Day 360</th>\n      <th>Day 361</th>\n      <th>Day 362</th>\n      <th>Day 363</th>\n      <th>Day 364</th>\n      <th>Day 365</th>\n      <th>Day 366</th>\n      <th>Culture</th>\n    </tr>\n  </thead>\n  <tbody>\n    <tr>\n      <th>2833</th>\n      <td>2019</td>\n      <td>1631</td>\n      <td>117.04</td>\n      <td>0.4429</td>\n      <td>0.4430</td>\n      <td>0.4430</td>\n      <td>0.4431</td>\n      <td>0.4431</td>\n      <td>0.4431</td>\n      <td>0.4431</td>\n      <td>...</td>\n      <td>NaN</td>\n      <td>NaN</td>\n      <td>NaN</td>\n      <td>NaN</td>\n      <td>NaN</td>\n      <td>NaN</td>\n      <td>NaN</td>\n      <td>NaN</td>\n      <td>NaN</td>\n      <td>4</td>\n    </tr>\n    <tr>\n      <th>2834</th>\n      <td>2016</td>\n      <td>336</td>\n      <td>70.61</td>\n      <td>0.0620</td>\n      <td>0.0687</td>\n      <td>0.0755</td>\n      <td>0.0822</td>\n      <td>0.0890</td>\n      <td>0.0957</td>\n      <td>0.1025</td>\n      <td>...</td>\n      <td>0.0041</td>\n      <td>0.0173</td>\n      <td>0.0304</td>\n      <td>0.0436</td>\n      <td>0.0567</td>\n      <td>0.0699</td>\n      <td>0.0830</td>\n      <td>0.0962</td>\n      <td>0.1093</td>\n      <td>4</td>\n    </tr>\n    <tr>\n      <th>2835</th>\n      <td>2016</td>\n      <td>371</td>\n      <td>60.26</td>\n      <td>0.0460</td>\n      <td>0.0399</td>\n      <td>0.0338</td>\n      <td>0.0277</td>\n      <td>0.0216</td>\n      <td>0.0154</td>\n      <td>0.0093</td>\n      <td>...</td>\n      <td>0.3555</td>\n      <td>0.3506</td>\n      <td>0.3458</td>\n      <td>0.3409</td>\n      <td>0.3361</td>\n      <td>0.3313</td>\n      <td>0.3264</td>\n      <td>0.3216</td>\n      <td>0.3167</td>\n      <td>4</td>\n    </tr>\n    <tr>\n      <th>2836</th>\n      <td>2017</td>\n      <td>115</td>\n      <td>237.86</td>\n      <td>-0.0148</td>\n      <td>-0.0149</td>\n      <td>-0.0150</td>\n      <td>-0.0151</td>\n      <td>-0.0153</td>\n      <td>-0.0154</td>\n      <td>-0.0155</td>\n      <td>...</td>\n      <td>0.0362</td>\n      <td>0.0458</td>\n      <td>0.0555</td>\n      <td>0.0651</td>\n      <td>0.0747</td>\n      <td>0.0843</td>\n      <td>0.0939</td>\n      <td>0.1035</td>\n      <td>NaN</td>\n      <td>5</td>\n    </tr>\n    <tr>\n      <th>2837</th>\n      <td>2018</td>\n      <td>215</td>\n      <td>48.86</td>\n      <td>0.2593</td>\n      <td>0.2590</td>\n      <td>0.2589</td>\n      <td>0.2588</td>\n      <td>0.2589</td>\n      <td>0.2590</td>\n      <td>0.2592</td>\n      <td>...</td>\n      <td>0.1462</td>\n      <td>0.1510</td>\n      <td>0.1559</td>\n      <td>0.1607</td>\n      <td>0.1655</td>\n      <td>0.1703</td>\n      <td>0.1752</td>\n      <td>0.1800</td>\n      <td>NaN</td>\n      <td>7</td>\n    </tr>\n  </tbody>\n</table>\n<p>5 rows × 370 columns</p>\n</div>"
     },
     "metadata": {},
     "execution_count": 20
    }
   ],
   "source": [
    "train.tail()"
   ]
  },
  {
   "cell_type": "code",
   "execution_count": 21,
   "metadata": {},
   "outputs": [
    {
     "output_type": "execute_result",
     "data": {
      "text/plain": [
       "(2838, 370)"
      ]
     },
     "metadata": {},
     "execution_count": 21
    }
   ],
   "source": [
    "train.shape"
   ]
  },
  {
   "cell_type": "code",
   "execution_count": 22,
   "metadata": {},
   "outputs": [
    {
     "output_type": "stream",
     "name": "stdout",
     "text": [
      "<class 'pandas.core.frame.DataFrame'>\nRangeIndex: 2838 entries, 0 to 2837\nColumns: 370 entries, Year to Culture\ndtypes: float64(367), int64(3)\nmemory usage: 8.0 MB\n"
     ]
    }
   ],
   "source": [
    "train.info()"
   ]
  },
  {
   "cell_type": "code",
   "execution_count": 23,
   "metadata": {},
   "outputs": [
    {
     "output_type": "execute_result",
     "data": {
      "text/plain": [
       "              Year     Field ID   Field Area        Day 1        Day 2  \\\n",
       "count  2838.000000  2838.000000  2838.000000  2838.000000  2838.000000   \n",
       "mean   2017.259338   845.647639   106.608302     0.207495     0.205959   \n",
       "std       1.255671   605.755332    72.944998     0.212510     0.211975   \n",
       "min    2015.000000     1.000000     5.990000    -0.141800    -0.133400   \n",
       "25%    2016.000000   255.250000    63.380000     0.010575     0.008750   \n",
       "50%    2017.000000   743.500000    87.185000     0.154000     0.155200   \n",
       "75%    2018.000000  1463.750000   124.370000     0.354550     0.356075   \n",
       "max    2019.000000  1892.000000   560.730000     0.802900     0.803800   \n",
       "\n",
       "             Day 3        Day 4        Day 5        Day 6        Day 7  ...  \\\n",
       "count  2838.000000  2838.000000  2838.000000  2838.000000  2838.000000  ...   \n",
       "mean      0.204435     0.202948     0.201810     0.200738     0.199660  ...   \n",
       "std       0.211715     0.211787     0.211938     0.212393     0.213124  ...   \n",
       "min      -0.126600    -0.124800    -0.122200    -0.121200    -0.125400  ...   \n",
       "25%       0.007000     0.005225     0.003100     0.001000    -0.000275  ...   \n",
       "50%       0.151300     0.154100     0.155650     0.152600     0.154550  ...   \n",
       "75%       0.355750     0.353200     0.352825     0.348275     0.346275  ...   \n",
       "max       0.804700     0.805500     0.806400     0.807300     0.808100  ...   \n",
       "\n",
       "           Day 358      Day 359      Day 360      Day 361      Day 362  \\\n",
       "count  2362.000000  2362.000000  2362.000000  2362.000000  2362.000000   \n",
       "mean      0.198520     0.196360     0.191499     0.186658     0.181817   \n",
       "std       0.195781     0.195195     0.192634     0.190466     0.188438   \n",
       "min      -0.161000    -0.158000    -0.155000    -0.152000    -0.157700   \n",
       "25%       0.004125     0.005000     0.007350     0.003575     0.000750   \n",
       "50%       0.171250     0.166200     0.162750     0.161800     0.154350   \n",
       "75%       0.323375     0.322400     0.314850     0.307875     0.301975   \n",
       "max       0.817700     0.820100     0.823000     0.799100     0.799300   \n",
       "\n",
       "           Day 363      Day 364      Day 365     Day 366      Culture  \n",
       "count  2362.000000  2362.000000  2362.000000  447.000000  2838.000000  \n",
       "mean      0.177668     0.173420     0.168890    0.088671     6.200141  \n",
       "std       0.186766     0.185895     0.185588    0.126895     4.159082  \n",
       "min      -0.167000    -0.158600    -0.150200   -0.137000     1.000000  \n",
       "25%      -0.000400     0.000025    -0.000575   -0.013150     4.000000  \n",
       "50%       0.136400     0.128000     0.116400    0.045100     4.000000  \n",
       "75%       0.298375     0.295000     0.292425    0.192300     8.000000  \n",
       "max       0.799500     0.799700     0.799800    0.516100    28.000000  \n",
       "\n",
       "[8 rows x 370 columns]"
      ],
      "text/html": "<div>\n<style scoped>\n    .dataframe tbody tr th:only-of-type {\n        vertical-align: middle;\n    }\n\n    .dataframe tbody tr th {\n        vertical-align: top;\n    }\n\n    .dataframe thead th {\n        text-align: right;\n    }\n</style>\n<table border=\"1\" class=\"dataframe\">\n  <thead>\n    <tr style=\"text-align: right;\">\n      <th></th>\n      <th>Year</th>\n      <th>Field ID</th>\n      <th>Field Area</th>\n      <th>Day 1</th>\n      <th>Day 2</th>\n      <th>Day 3</th>\n      <th>Day 4</th>\n      <th>Day 5</th>\n      <th>Day 6</th>\n      <th>Day 7</th>\n      <th>...</th>\n      <th>Day 358</th>\n      <th>Day 359</th>\n      <th>Day 360</th>\n      <th>Day 361</th>\n      <th>Day 362</th>\n      <th>Day 363</th>\n      <th>Day 364</th>\n      <th>Day 365</th>\n      <th>Day 366</th>\n      <th>Culture</th>\n    </tr>\n  </thead>\n  <tbody>\n    <tr>\n      <th>count</th>\n      <td>2838.000000</td>\n      <td>2838.000000</td>\n      <td>2838.000000</td>\n      <td>2838.000000</td>\n      <td>2838.000000</td>\n      <td>2838.000000</td>\n      <td>2838.000000</td>\n      <td>2838.000000</td>\n      <td>2838.000000</td>\n      <td>2838.000000</td>\n      <td>...</td>\n      <td>2362.000000</td>\n      <td>2362.000000</td>\n      <td>2362.000000</td>\n      <td>2362.000000</td>\n      <td>2362.000000</td>\n      <td>2362.000000</td>\n      <td>2362.000000</td>\n      <td>2362.000000</td>\n      <td>447.000000</td>\n      <td>2838.000000</td>\n    </tr>\n    <tr>\n      <th>mean</th>\n      <td>2017.259338</td>\n      <td>845.647639</td>\n      <td>106.608302</td>\n      <td>0.207495</td>\n      <td>0.205959</td>\n      <td>0.204435</td>\n      <td>0.202948</td>\n      <td>0.201810</td>\n      <td>0.200738</td>\n      <td>0.199660</td>\n      <td>...</td>\n      <td>0.198520</td>\n      <td>0.196360</td>\n      <td>0.191499</td>\n      <td>0.186658</td>\n      <td>0.181817</td>\n      <td>0.177668</td>\n      <td>0.173420</td>\n      <td>0.168890</td>\n      <td>0.088671</td>\n      <td>6.200141</td>\n    </tr>\n    <tr>\n      <th>std</th>\n      <td>1.255671</td>\n      <td>605.755332</td>\n      <td>72.944998</td>\n      <td>0.212510</td>\n      <td>0.211975</td>\n      <td>0.211715</td>\n      <td>0.211787</td>\n      <td>0.211938</td>\n      <td>0.212393</td>\n      <td>0.213124</td>\n      <td>...</td>\n      <td>0.195781</td>\n      <td>0.195195</td>\n      <td>0.192634</td>\n      <td>0.190466</td>\n      <td>0.188438</td>\n      <td>0.186766</td>\n      <td>0.185895</td>\n      <td>0.185588</td>\n      <td>0.126895</td>\n      <td>4.159082</td>\n    </tr>\n    <tr>\n      <th>min</th>\n      <td>2015.000000</td>\n      <td>1.000000</td>\n      <td>5.990000</td>\n      <td>-0.141800</td>\n      <td>-0.133400</td>\n      <td>-0.126600</td>\n      <td>-0.124800</td>\n      <td>-0.122200</td>\n      <td>-0.121200</td>\n      <td>-0.125400</td>\n      <td>...</td>\n      <td>-0.161000</td>\n      <td>-0.158000</td>\n      <td>-0.155000</td>\n      <td>-0.152000</td>\n      <td>-0.157700</td>\n      <td>-0.167000</td>\n      <td>-0.158600</td>\n      <td>-0.150200</td>\n      <td>-0.137000</td>\n      <td>1.000000</td>\n    </tr>\n    <tr>\n      <th>25%</th>\n      <td>2016.000000</td>\n      <td>255.250000</td>\n      <td>63.380000</td>\n      <td>0.010575</td>\n      <td>0.008750</td>\n      <td>0.007000</td>\n      <td>0.005225</td>\n      <td>0.003100</td>\n      <td>0.001000</td>\n      <td>-0.000275</td>\n      <td>...</td>\n      <td>0.004125</td>\n      <td>0.005000</td>\n      <td>0.007350</td>\n      <td>0.003575</td>\n      <td>0.000750</td>\n      <td>-0.000400</td>\n      <td>0.000025</td>\n      <td>-0.000575</td>\n      <td>-0.013150</td>\n      <td>4.000000</td>\n    </tr>\n    <tr>\n      <th>50%</th>\n      <td>2017.000000</td>\n      <td>743.500000</td>\n      <td>87.185000</td>\n      <td>0.154000</td>\n      <td>0.155200</td>\n      <td>0.151300</td>\n      <td>0.154100</td>\n      <td>0.155650</td>\n      <td>0.152600</td>\n      <td>0.154550</td>\n      <td>...</td>\n      <td>0.171250</td>\n      <td>0.166200</td>\n      <td>0.162750</td>\n      <td>0.161800</td>\n      <td>0.154350</td>\n      <td>0.136400</td>\n      <td>0.128000</td>\n      <td>0.116400</td>\n      <td>0.045100</td>\n      <td>4.000000</td>\n    </tr>\n    <tr>\n      <th>75%</th>\n      <td>2018.000000</td>\n      <td>1463.750000</td>\n      <td>124.370000</td>\n      <td>0.354550</td>\n      <td>0.356075</td>\n      <td>0.355750</td>\n      <td>0.353200</td>\n      <td>0.352825</td>\n      <td>0.348275</td>\n      <td>0.346275</td>\n      <td>...</td>\n      <td>0.323375</td>\n      <td>0.322400</td>\n      <td>0.314850</td>\n      <td>0.307875</td>\n      <td>0.301975</td>\n      <td>0.298375</td>\n      <td>0.295000</td>\n      <td>0.292425</td>\n      <td>0.192300</td>\n      <td>8.000000</td>\n    </tr>\n    <tr>\n      <th>max</th>\n      <td>2019.000000</td>\n      <td>1892.000000</td>\n      <td>560.730000</td>\n      <td>0.802900</td>\n      <td>0.803800</td>\n      <td>0.804700</td>\n      <td>0.805500</td>\n      <td>0.806400</td>\n      <td>0.807300</td>\n      <td>0.808100</td>\n      <td>...</td>\n      <td>0.817700</td>\n      <td>0.820100</td>\n      <td>0.823000</td>\n      <td>0.799100</td>\n      <td>0.799300</td>\n      <td>0.799500</td>\n      <td>0.799700</td>\n      <td>0.799800</td>\n      <td>0.516100</td>\n      <td>28.000000</td>\n    </tr>\n  </tbody>\n</table>\n<p>8 rows × 370 columns</p>\n</div>"
     },
     "metadata": {},
     "execution_count": 23
    }
   ],
   "source": [
    "train.describe()"
   ]
  },
  {
   "cell_type": "code",
   "execution_count": 24,
   "metadata": {},
   "outputs": [
    {
     "output_type": "execute_result",
     "data": {
      "text/plain": [
       "Index(['Year', 'Field ID', 'Field Area', 'Day 1', 'Day 2', 'Day 3', 'Day 4',\n",
       "       'Day 5', 'Day 6', 'Day 7',\n",
       "       ...\n",
       "       'Day 358', 'Day 359', 'Day 360', 'Day 361', 'Day 362', 'Day 363',\n",
       "       'Day 364', 'Day 365', 'Day 366', 'Culture'],\n",
       "      dtype='object', length=370)"
      ]
     },
     "metadata": {},
     "execution_count": 24
    }
   ],
   "source": [
    "train.columns"
   ]
  },
  {
   "cell_type": "code",
   "execution_count": 25,
   "metadata": {},
   "outputs": [
    {
     "output_type": "execute_result",
     "data": {
      "text/plain": [
       "   Year  Field ID  Field Area   Day 1   Day 2   Day 3   Day 4   Day 5   Day 6  \\\n",
       "0  2019       605      132.60 -0.0047 -0.0051 -0.0056 -0.0061 -0.0067 -0.0073   \n",
       "1  2019       305       61.44  0.2445  0.2438  0.2431  0.2424  0.2417  0.2410   \n",
       "2  2019      1096       59.26  0.0145  0.0081  0.0018 -0.0046 -0.0110 -0.0122   \n",
       "3  2019       179      112.36 -0.0171 -0.0200 -0.0209 -0.0216 -0.0221 -0.0223   \n",
       "4  2019       282       68.57  0.3908  0.3892  0.3876  0.3859  0.3843  0.3827   \n",
       "\n",
       "    Day 7  ...  Day 357  Day 358  Day 359  Day 360  Day 361  Day 362  Day 363  \\\n",
       "0 -0.0080  ...      NaN      NaN      NaN      NaN      NaN      NaN      NaN   \n",
       "1  0.2403  ...      NaN      NaN      NaN      NaN      NaN      NaN      NaN   \n",
       "2 -0.0133  ...      NaN      NaN      NaN      NaN      NaN      NaN      NaN   \n",
       "3 -0.0221  ...      NaN      NaN      NaN      NaN      NaN      NaN      NaN   \n",
       "4  0.3811  ...      NaN      NaN      NaN      NaN      NaN      NaN      NaN   \n",
       "\n",
       "   Day 364  Day 365  Day 366  \n",
       "0      NaN      NaN      NaN  \n",
       "1      NaN      NaN      NaN  \n",
       "2      NaN      NaN      NaN  \n",
       "3      NaN      NaN      NaN  \n",
       "4      NaN      NaN      NaN  \n",
       "\n",
       "[5 rows x 369 columns]"
      ],
      "text/html": "<div>\n<style scoped>\n    .dataframe tbody tr th:only-of-type {\n        vertical-align: middle;\n    }\n\n    .dataframe tbody tr th {\n        vertical-align: top;\n    }\n\n    .dataframe thead th {\n        text-align: right;\n    }\n</style>\n<table border=\"1\" class=\"dataframe\">\n  <thead>\n    <tr style=\"text-align: right;\">\n      <th></th>\n      <th>Year</th>\n      <th>Field ID</th>\n      <th>Field Area</th>\n      <th>Day 1</th>\n      <th>Day 2</th>\n      <th>Day 3</th>\n      <th>Day 4</th>\n      <th>Day 5</th>\n      <th>Day 6</th>\n      <th>Day 7</th>\n      <th>...</th>\n      <th>Day 357</th>\n      <th>Day 358</th>\n      <th>Day 359</th>\n      <th>Day 360</th>\n      <th>Day 361</th>\n      <th>Day 362</th>\n      <th>Day 363</th>\n      <th>Day 364</th>\n      <th>Day 365</th>\n      <th>Day 366</th>\n    </tr>\n  </thead>\n  <tbody>\n    <tr>\n      <th>0</th>\n      <td>2019</td>\n      <td>605</td>\n      <td>132.60</td>\n      <td>-0.0047</td>\n      <td>-0.0051</td>\n      <td>-0.0056</td>\n      <td>-0.0061</td>\n      <td>-0.0067</td>\n      <td>-0.0073</td>\n      <td>-0.0080</td>\n      <td>...</td>\n      <td>NaN</td>\n      <td>NaN</td>\n      <td>NaN</td>\n      <td>NaN</td>\n      <td>NaN</td>\n      <td>NaN</td>\n      <td>NaN</td>\n      <td>NaN</td>\n      <td>NaN</td>\n      <td>NaN</td>\n    </tr>\n    <tr>\n      <th>1</th>\n      <td>2019</td>\n      <td>305</td>\n      <td>61.44</td>\n      <td>0.2445</td>\n      <td>0.2438</td>\n      <td>0.2431</td>\n      <td>0.2424</td>\n      <td>0.2417</td>\n      <td>0.2410</td>\n      <td>0.2403</td>\n      <td>...</td>\n      <td>NaN</td>\n      <td>NaN</td>\n      <td>NaN</td>\n      <td>NaN</td>\n      <td>NaN</td>\n      <td>NaN</td>\n      <td>NaN</td>\n      <td>NaN</td>\n      <td>NaN</td>\n      <td>NaN</td>\n    </tr>\n    <tr>\n      <th>2</th>\n      <td>2019</td>\n      <td>1096</td>\n      <td>59.26</td>\n      <td>0.0145</td>\n      <td>0.0081</td>\n      <td>0.0018</td>\n      <td>-0.0046</td>\n      <td>-0.0110</td>\n      <td>-0.0122</td>\n      <td>-0.0133</td>\n      <td>...</td>\n      <td>NaN</td>\n      <td>NaN</td>\n      <td>NaN</td>\n      <td>NaN</td>\n      <td>NaN</td>\n      <td>NaN</td>\n      <td>NaN</td>\n      <td>NaN</td>\n      <td>NaN</td>\n      <td>NaN</td>\n    </tr>\n    <tr>\n      <th>3</th>\n      <td>2019</td>\n      <td>179</td>\n      <td>112.36</td>\n      <td>-0.0171</td>\n      <td>-0.0200</td>\n      <td>-0.0209</td>\n      <td>-0.0216</td>\n      <td>-0.0221</td>\n      <td>-0.0223</td>\n      <td>-0.0221</td>\n      <td>...</td>\n      <td>NaN</td>\n      <td>NaN</td>\n      <td>NaN</td>\n      <td>NaN</td>\n      <td>NaN</td>\n      <td>NaN</td>\n      <td>NaN</td>\n      <td>NaN</td>\n      <td>NaN</td>\n      <td>NaN</td>\n    </tr>\n    <tr>\n      <th>4</th>\n      <td>2019</td>\n      <td>282</td>\n      <td>68.57</td>\n      <td>0.3908</td>\n      <td>0.3892</td>\n      <td>0.3876</td>\n      <td>0.3859</td>\n      <td>0.3843</td>\n      <td>0.3827</td>\n      <td>0.3811</td>\n      <td>...</td>\n      <td>NaN</td>\n      <td>NaN</td>\n      <td>NaN</td>\n      <td>NaN</td>\n      <td>NaN</td>\n      <td>NaN</td>\n      <td>NaN</td>\n      <td>NaN</td>\n      <td>NaN</td>\n      <td>NaN</td>\n    </tr>\n  </tbody>\n</table>\n<p>5 rows × 369 columns</p>\n</div>"
     },
     "metadata": {},
     "execution_count": 25
    }
   ],
   "source": [
    "test.head()"
   ]
  },
  {
   "cell_type": "code",
   "execution_count": 26,
   "metadata": {},
   "outputs": [
    {
     "output_type": "execute_result",
     "data": {
      "text/plain": [
       "     Year  Field ID  Field Area   Day 1   Day 2   Day 3   Day 4   Day 5  \\\n",
       "934  2019       665       46.50 -0.0176 -0.0179 -0.0181 -0.0184 -0.0186   \n",
       "935  2019      1277      229.24  0.0212  0.0181  0.0149  0.0118  0.0087   \n",
       "936  2019       875      166.97  0.0460  0.0411  0.0362  0.0312  0.0263   \n",
       "937  2019       301      123.52  0.2499  0.2483  0.2468  0.2452  0.2437   \n",
       "938  2019       464       88.15  0.3809  0.3599  0.3388  0.3178  0.2967   \n",
       "\n",
       "      Day 6   Day 7  ...  Day 357  Day 358  Day 359  Day 360  Day 361  \\\n",
       "934 -0.0188 -0.0189  ...      NaN      NaN      NaN      NaN      NaN   \n",
       "935  0.0056  0.0025  ...      NaN      NaN      NaN      NaN      NaN   \n",
       "936  0.0214  0.0165  ...      NaN      NaN      NaN      NaN      NaN   \n",
       "937  0.2422  0.2407  ...      NaN      NaN      NaN      NaN      NaN   \n",
       "938  0.2757  0.2546  ...      NaN      NaN      NaN      NaN      NaN   \n",
       "\n",
       "     Day 362  Day 363  Day 364  Day 365  Day 366  \n",
       "934      NaN      NaN      NaN      NaN      NaN  \n",
       "935      NaN      NaN      NaN      NaN      NaN  \n",
       "936      NaN      NaN      NaN      NaN      NaN  \n",
       "937      NaN      NaN      NaN      NaN      NaN  \n",
       "938      NaN      NaN      NaN      NaN      NaN  \n",
       "\n",
       "[5 rows x 369 columns]"
      ],
      "text/html": "<div>\n<style scoped>\n    .dataframe tbody tr th:only-of-type {\n        vertical-align: middle;\n    }\n\n    .dataframe tbody tr th {\n        vertical-align: top;\n    }\n\n    .dataframe thead th {\n        text-align: right;\n    }\n</style>\n<table border=\"1\" class=\"dataframe\">\n  <thead>\n    <tr style=\"text-align: right;\">\n      <th></th>\n      <th>Year</th>\n      <th>Field ID</th>\n      <th>Field Area</th>\n      <th>Day 1</th>\n      <th>Day 2</th>\n      <th>Day 3</th>\n      <th>Day 4</th>\n      <th>Day 5</th>\n      <th>Day 6</th>\n      <th>Day 7</th>\n      <th>...</th>\n      <th>Day 357</th>\n      <th>Day 358</th>\n      <th>Day 359</th>\n      <th>Day 360</th>\n      <th>Day 361</th>\n      <th>Day 362</th>\n      <th>Day 363</th>\n      <th>Day 364</th>\n      <th>Day 365</th>\n      <th>Day 366</th>\n    </tr>\n  </thead>\n  <tbody>\n    <tr>\n      <th>934</th>\n      <td>2019</td>\n      <td>665</td>\n      <td>46.50</td>\n      <td>-0.0176</td>\n      <td>-0.0179</td>\n      <td>-0.0181</td>\n      <td>-0.0184</td>\n      <td>-0.0186</td>\n      <td>-0.0188</td>\n      <td>-0.0189</td>\n      <td>...</td>\n      <td>NaN</td>\n      <td>NaN</td>\n      <td>NaN</td>\n      <td>NaN</td>\n      <td>NaN</td>\n      <td>NaN</td>\n      <td>NaN</td>\n      <td>NaN</td>\n      <td>NaN</td>\n      <td>NaN</td>\n    </tr>\n    <tr>\n      <th>935</th>\n      <td>2019</td>\n      <td>1277</td>\n      <td>229.24</td>\n      <td>0.0212</td>\n      <td>0.0181</td>\n      <td>0.0149</td>\n      <td>0.0118</td>\n      <td>0.0087</td>\n      <td>0.0056</td>\n      <td>0.0025</td>\n      <td>...</td>\n      <td>NaN</td>\n      <td>NaN</td>\n      <td>NaN</td>\n      <td>NaN</td>\n      <td>NaN</td>\n      <td>NaN</td>\n      <td>NaN</td>\n      <td>NaN</td>\n      <td>NaN</td>\n      <td>NaN</td>\n    </tr>\n    <tr>\n      <th>936</th>\n      <td>2019</td>\n      <td>875</td>\n      <td>166.97</td>\n      <td>0.0460</td>\n      <td>0.0411</td>\n      <td>0.0362</td>\n      <td>0.0312</td>\n      <td>0.0263</td>\n      <td>0.0214</td>\n      <td>0.0165</td>\n      <td>...</td>\n      <td>NaN</td>\n      <td>NaN</td>\n      <td>NaN</td>\n      <td>NaN</td>\n      <td>NaN</td>\n      <td>NaN</td>\n      <td>NaN</td>\n      <td>NaN</td>\n      <td>NaN</td>\n      <td>NaN</td>\n    </tr>\n    <tr>\n      <th>937</th>\n      <td>2019</td>\n      <td>301</td>\n      <td>123.52</td>\n      <td>0.2499</td>\n      <td>0.2483</td>\n      <td>0.2468</td>\n      <td>0.2452</td>\n      <td>0.2437</td>\n      <td>0.2422</td>\n      <td>0.2407</td>\n      <td>...</td>\n      <td>NaN</td>\n      <td>NaN</td>\n      <td>NaN</td>\n      <td>NaN</td>\n      <td>NaN</td>\n      <td>NaN</td>\n      <td>NaN</td>\n      <td>NaN</td>\n      <td>NaN</td>\n      <td>NaN</td>\n    </tr>\n    <tr>\n      <th>938</th>\n      <td>2019</td>\n      <td>464</td>\n      <td>88.15</td>\n      <td>0.3809</td>\n      <td>0.3599</td>\n      <td>0.3388</td>\n      <td>0.3178</td>\n      <td>0.2967</td>\n      <td>0.2757</td>\n      <td>0.2546</td>\n      <td>...</td>\n      <td>NaN</td>\n      <td>NaN</td>\n      <td>NaN</td>\n      <td>NaN</td>\n      <td>NaN</td>\n      <td>NaN</td>\n      <td>NaN</td>\n      <td>NaN</td>\n      <td>NaN</td>\n      <td>NaN</td>\n    </tr>\n  </tbody>\n</table>\n<p>5 rows × 369 columns</p>\n</div>"
     },
     "metadata": {},
     "execution_count": 26
    }
   ],
   "source": [
    "test.tail()"
   ]
  },
  {
   "cell_type": "code",
   "execution_count": 27,
   "metadata": {},
   "outputs": [
    {
     "output_type": "stream",
     "name": "stdout",
     "text": [
      "<class 'pandas.core.frame.DataFrame'>\nRangeIndex: 939 entries, 0 to 938\nColumns: 369 entries, Year to Day 366\ndtypes: float64(367), int64(2)\nmemory usage: 2.6 MB\n"
     ]
    }
   ],
   "source": [
    "test.info()"
   ]
  },
  {
   "cell_type": "code",
   "execution_count": 29,
   "metadata": {},
   "outputs": [
    {
     "output_type": "execute_result",
     "data": {
      "text/plain": [
       "              Year     Field ID  Field Area       Day 1       Day 2  \\\n",
       "count   939.000000   939.000000  939.000000  939.000000  939.000000   \n",
       "mean   2018.990415   614.739084  109.074888    0.121286    0.117349   \n",
       "std       0.156296   448.125897   72.584004    0.169712    0.168228   \n",
       "min    2015.000000     1.000000   13.010000   -0.125400   -0.121900   \n",
       "25%    2019.000000   215.500000   61.310000   -0.012100   -0.013150   \n",
       "50%    2019.000000   549.000000   91.260000    0.051300    0.046700   \n",
       "75%    2019.000000   978.000000  135.300000    0.235950    0.230400   \n",
       "max    2019.000000  1875.000000  662.000000    0.802800    0.801100   \n",
       "\n",
       "            Day 3       Day 4       Day 5       Day 6       Day 7  ...  \\\n",
       "count  939.000000  939.000000  939.000000  939.000000  939.000000  ...   \n",
       "mean     0.113949    0.110554    0.107156    0.103987    0.100897  ...   \n",
       "std      0.166490    0.164941    0.163605    0.162295    0.161131  ...   \n",
       "min     -0.122500   -0.125000   -0.127400   -0.129800   -0.132300  ...   \n",
       "25%     -0.013000   -0.013650   -0.014550   -0.015100   -0.016050  ...   \n",
       "50%      0.043800    0.040500    0.035200    0.032100    0.028500  ...   \n",
       "75%      0.225250    0.218650    0.215800    0.211450    0.209400  ...   \n",
       "max      0.799400    0.797700    0.796000    0.794400    0.792700  ...   \n",
       "\n",
       "       Day 357   Day 358   Day 359   Day 360   Day 361   Day 362   Day 363  \\\n",
       "count  5.00000  5.000000  5.000000  5.000000  5.000000  5.000000  5.000000   \n",
       "mean   0.23260  0.229120  0.225620  0.222100  0.218580  0.215060  0.211480   \n",
       "std    0.18688  0.182076  0.177405  0.172919  0.168577  0.164391  0.160452   \n",
       "min   -0.03470 -0.032000 -0.029300 -0.026700 -0.024000 -0.021300 -0.018700   \n",
       "25%    0.12620  0.123700  0.121200  0.118800  0.116300  0.113900  0.111400   \n",
       "50%    0.27790  0.277900  0.277900  0.277800  0.277800  0.277800  0.277700   \n",
       "75%    0.37500  0.373100  0.371200  0.369200  0.355700  0.340000  0.324300   \n",
       "max    0.41860  0.402900  0.387100  0.371400  0.367100  0.364900  0.362700   \n",
       "\n",
       "        Day 364   Day 365  Day 366  \n",
       "count  5.000000  5.000000      0.0  \n",
       "mean   0.207920  0.204380      NaN  \n",
       "std    0.156685  0.153139      NaN  \n",
       "min   -0.016000 -0.013300      NaN  \n",
       "25%    0.108900  0.106500      NaN  \n",
       "50%    0.277700  0.277700      NaN  \n",
       "75%    0.308600  0.292900      NaN  \n",
       "max    0.360400  0.358100      NaN  \n",
       "\n",
       "[8 rows x 369 columns]"
      ],
      "text/html": "<div>\n<style scoped>\n    .dataframe tbody tr th:only-of-type {\n        vertical-align: middle;\n    }\n\n    .dataframe tbody tr th {\n        vertical-align: top;\n    }\n\n    .dataframe thead th {\n        text-align: right;\n    }\n</style>\n<table border=\"1\" class=\"dataframe\">\n  <thead>\n    <tr style=\"text-align: right;\">\n      <th></th>\n      <th>Year</th>\n      <th>Field ID</th>\n      <th>Field Area</th>\n      <th>Day 1</th>\n      <th>Day 2</th>\n      <th>Day 3</th>\n      <th>Day 4</th>\n      <th>Day 5</th>\n      <th>Day 6</th>\n      <th>Day 7</th>\n      <th>...</th>\n      <th>Day 357</th>\n      <th>Day 358</th>\n      <th>Day 359</th>\n      <th>Day 360</th>\n      <th>Day 361</th>\n      <th>Day 362</th>\n      <th>Day 363</th>\n      <th>Day 364</th>\n      <th>Day 365</th>\n      <th>Day 366</th>\n    </tr>\n  </thead>\n  <tbody>\n    <tr>\n      <th>count</th>\n      <td>939.000000</td>\n      <td>939.000000</td>\n      <td>939.000000</td>\n      <td>939.000000</td>\n      <td>939.000000</td>\n      <td>939.000000</td>\n      <td>939.000000</td>\n      <td>939.000000</td>\n      <td>939.000000</td>\n      <td>939.000000</td>\n      <td>...</td>\n      <td>5.00000</td>\n      <td>5.000000</td>\n      <td>5.000000</td>\n      <td>5.000000</td>\n      <td>5.000000</td>\n      <td>5.000000</td>\n      <td>5.000000</td>\n      <td>5.000000</td>\n      <td>5.000000</td>\n      <td>0.0</td>\n    </tr>\n    <tr>\n      <th>mean</th>\n      <td>2018.990415</td>\n      <td>614.739084</td>\n      <td>109.074888</td>\n      <td>0.121286</td>\n      <td>0.117349</td>\n      <td>0.113949</td>\n      <td>0.110554</td>\n      <td>0.107156</td>\n      <td>0.103987</td>\n      <td>0.100897</td>\n      <td>...</td>\n      <td>0.23260</td>\n      <td>0.229120</td>\n      <td>0.225620</td>\n      <td>0.222100</td>\n      <td>0.218580</td>\n      <td>0.215060</td>\n      <td>0.211480</td>\n      <td>0.207920</td>\n      <td>0.204380</td>\n      <td>NaN</td>\n    </tr>\n    <tr>\n      <th>std</th>\n      <td>0.156296</td>\n      <td>448.125897</td>\n      <td>72.584004</td>\n      <td>0.169712</td>\n      <td>0.168228</td>\n      <td>0.166490</td>\n      <td>0.164941</td>\n      <td>0.163605</td>\n      <td>0.162295</td>\n      <td>0.161131</td>\n      <td>...</td>\n      <td>0.18688</td>\n      <td>0.182076</td>\n      <td>0.177405</td>\n      <td>0.172919</td>\n      <td>0.168577</td>\n      <td>0.164391</td>\n      <td>0.160452</td>\n      <td>0.156685</td>\n      <td>0.153139</td>\n      <td>NaN</td>\n    </tr>\n    <tr>\n      <th>min</th>\n      <td>2015.000000</td>\n      <td>1.000000</td>\n      <td>13.010000</td>\n      <td>-0.125400</td>\n      <td>-0.121900</td>\n      <td>-0.122500</td>\n      <td>-0.125000</td>\n      <td>-0.127400</td>\n      <td>-0.129800</td>\n      <td>-0.132300</td>\n      <td>...</td>\n      <td>-0.03470</td>\n      <td>-0.032000</td>\n      <td>-0.029300</td>\n      <td>-0.026700</td>\n      <td>-0.024000</td>\n      <td>-0.021300</td>\n      <td>-0.018700</td>\n      <td>-0.016000</td>\n      <td>-0.013300</td>\n      <td>NaN</td>\n    </tr>\n    <tr>\n      <th>25%</th>\n      <td>2019.000000</td>\n      <td>215.500000</td>\n      <td>61.310000</td>\n      <td>-0.012100</td>\n      <td>-0.013150</td>\n      <td>-0.013000</td>\n      <td>-0.013650</td>\n      <td>-0.014550</td>\n      <td>-0.015100</td>\n      <td>-0.016050</td>\n      <td>...</td>\n      <td>0.12620</td>\n      <td>0.123700</td>\n      <td>0.121200</td>\n      <td>0.118800</td>\n      <td>0.116300</td>\n      <td>0.113900</td>\n      <td>0.111400</td>\n      <td>0.108900</td>\n      <td>0.106500</td>\n      <td>NaN</td>\n    </tr>\n    <tr>\n      <th>50%</th>\n      <td>2019.000000</td>\n      <td>549.000000</td>\n      <td>91.260000</td>\n      <td>0.051300</td>\n      <td>0.046700</td>\n      <td>0.043800</td>\n      <td>0.040500</td>\n      <td>0.035200</td>\n      <td>0.032100</td>\n      <td>0.028500</td>\n      <td>...</td>\n      <td>0.27790</td>\n      <td>0.277900</td>\n      <td>0.277900</td>\n      <td>0.277800</td>\n      <td>0.277800</td>\n      <td>0.277800</td>\n      <td>0.277700</td>\n      <td>0.277700</td>\n      <td>0.277700</td>\n      <td>NaN</td>\n    </tr>\n    <tr>\n      <th>75%</th>\n      <td>2019.000000</td>\n      <td>978.000000</td>\n      <td>135.300000</td>\n      <td>0.235950</td>\n      <td>0.230400</td>\n      <td>0.225250</td>\n      <td>0.218650</td>\n      <td>0.215800</td>\n      <td>0.211450</td>\n      <td>0.209400</td>\n      <td>...</td>\n      <td>0.37500</td>\n      <td>0.373100</td>\n      <td>0.371200</td>\n      <td>0.369200</td>\n      <td>0.355700</td>\n      <td>0.340000</td>\n      <td>0.324300</td>\n      <td>0.308600</td>\n      <td>0.292900</td>\n      <td>NaN</td>\n    </tr>\n    <tr>\n      <th>max</th>\n      <td>2019.000000</td>\n      <td>1875.000000</td>\n      <td>662.000000</td>\n      <td>0.802800</td>\n      <td>0.801100</td>\n      <td>0.799400</td>\n      <td>0.797700</td>\n      <td>0.796000</td>\n      <td>0.794400</td>\n      <td>0.792700</td>\n      <td>...</td>\n      <td>0.41860</td>\n      <td>0.402900</td>\n      <td>0.387100</td>\n      <td>0.371400</td>\n      <td>0.367100</td>\n      <td>0.364900</td>\n      <td>0.362700</td>\n      <td>0.360400</td>\n      <td>0.358100</td>\n      <td>NaN</td>\n    </tr>\n  </tbody>\n</table>\n<p>8 rows × 369 columns</p>\n</div>"
     },
     "metadata": {},
     "execution_count": 29
    }
   ],
   "source": [
    "test.describe()"
   ]
  },
  {
   "source": [
    "# Baseline - оборвать данные по минимальному количеству в тесте, только на таком количестве дней обучиться на трэине и посмотреть что получается\n"
   ],
   "cell_type": "markdown",
   "metadata": {}
  },
  {
   "cell_type": "code",
   "execution_count": 32,
   "metadata": {},
   "outputs": [],
   "source": [
    "nan_amount_test = test.isnull().sum(axis=1)\n",
    "max_nan_test = nan_amount_test.max()"
   ]
  },
  {
   "cell_type": "code",
   "execution_count": 38,
   "metadata": {},
   "outputs": [
    {
     "output_type": "display_data",
     "data": {
      "text/plain": "<Figure size 864x576 with 1 Axes>",
      "image/svg+xml": "<?xml version=\"1.0\" encoding=\"utf-8\" standalone=\"no\"?>\n<!DOCTYPE svg PUBLIC \"-//W3C//DTD SVG 1.1//EN\"\n  \"http://www.w3.org/Graphics/SVG/1.1/DTD/svg11.dtd\">\n<!-- Created with matplotlib (https://matplotlib.org/) -->\n<svg height=\"469.322898pt\" version=\"1.1\" viewBox=\"0 0 710.0875 469.322898\" width=\"710.0875pt\" xmlns=\"http://www.w3.org/2000/svg\" xmlns:xlink=\"http://www.w3.org/1999/xlink\">\n <defs>\n  <style type=\"text/css\">\n*{stroke-linecap:butt;stroke-linejoin:round;}\n  </style>\n </defs>\n <g id=\"figure_1\">\n  <g id=\"patch_1\">\n   <path d=\"M 0 469.322898 \nL 710.0875 469.322898 \nL 710.0875 0 \nL 0 0 \nz\n\" style=\"fill:none;\"/>\n  </g>\n  <g id=\"axes_1\">\n   <g id=\"patch_2\">\n    <path d=\"M 33.2875 445.444773 \nL 702.8875 445.444773 \nL 702.8875 10.564773 \nL 33.2875 10.564773 \nz\n\" style=\"fill:#ffffff;\"/>\n   </g>\n   <g id=\"patch_3\">\n    <path clip-path=\"url(#pd0c208c718)\" d=\"M 63.723864 445.444773 \nL 104.305682 445.444773 \nL 104.305682 438.204014 \nL 63.723864 438.204014 \nz\n\" style=\"fill:#1f77b4;\"/>\n   </g>\n   <g id=\"patch_4\">\n    <path clip-path=\"url(#pd0c208c718)\" d=\"M 104.305682 445.444773 \nL 144.8875 445.444773 \nL 144.8875 445.444773 \nL 104.305682 445.444773 \nz\n\" style=\"fill:#1f77b4;\"/>\n   </g>\n   <g id=\"patch_5\">\n    <path clip-path=\"url(#pd0c208c718)\" d=\"M 144.8875 445.444773 \nL 185.469318 445.444773 \nL 185.469318 445.444773 \nL 144.8875 445.444773 \nz\n\" style=\"fill:#1f77b4;\"/>\n   </g>\n   <g id=\"patch_6\">\n    <path clip-path=\"url(#pd0c208c718)\" d=\"M 185.469318 445.444773 \nL 226.051136 445.444773 \nL 226.051136 417.929888 \nL 185.469318 417.929888 \nz\n\" style=\"fill:#1f77b4;\"/>\n   </g>\n   <g id=\"patch_7\">\n    <path clip-path=\"url(#pd0c208c718)\" d=\"M 226.051136 445.444773 \nL 266.632955 445.444773 \nL 266.632955 400.552066 \nL 226.051136 400.552066 \nz\n\" style=\"fill:#1f77b4;\"/>\n   </g>\n   <g id=\"patch_8\">\n    <path clip-path=\"url(#pd0c208c718)\" d=\"M 266.632955 445.444773 \nL 307.214773 445.444773 \nL 307.214773 94.992026 \nL 266.632955 94.992026 \nz\n\" style=\"fill:#1f77b4;\"/>\n   </g>\n   <g id=\"patch_9\">\n    <path clip-path=\"url(#pd0c208c718)\" d=\"M 307.214773 445.444773 \nL 347.796591 445.444773 \nL 347.796591 399.103914 \nL 307.214773 399.103914 \nz\n\" style=\"fill:#1f77b4;\"/>\n   </g>\n   <g id=\"patch_10\">\n    <path clip-path=\"url(#pd0c208c718)\" d=\"M 347.796591 445.444773 \nL 388.378409 445.444773 \nL 388.378409 442.548469 \nL 347.796591 442.548469 \nz\n\" style=\"fill:#1f77b4;\"/>\n   </g>\n   <g id=\"patch_11\">\n    <path clip-path=\"url(#pd0c208c718)\" d=\"M 388.378409 445.444773 \nL 428.960227 445.444773 \nL 428.960227 383.174244 \nL 388.378409 383.174244 \nz\n\" style=\"fill:#1f77b4;\"/>\n   </g>\n   <g id=\"patch_12\">\n    <path clip-path=\"url(#pd0c208c718)\" d=\"M 428.960227 445.444773 \nL 469.542045 445.444773 \nL 469.542045 193.466352 \nL 428.960227 193.466352 \nz\n\" style=\"fill:#1f77b4;\"/>\n   </g>\n   <g id=\"patch_13\">\n    <path clip-path=\"url(#pd0c208c718)\" d=\"M 469.542045 445.444773 \nL 510.123864 445.444773 \nL 510.123864 31.273345 \nL 469.542045 31.273345 \nz\n\" style=\"fill:#1f77b4;\"/>\n   </g>\n   <g id=\"patch_14\">\n    <path clip-path=\"url(#pd0c208c718)\" d=\"M 510.123864 445.444773 \nL 550.705682 445.444773 \nL 550.705682 445.444773 \nL 510.123864 445.444773 \nz\n\" style=\"fill:#1f77b4;\"/>\n   </g>\n   <g id=\"patch_15\">\n    <path clip-path=\"url(#pd0c208c718)\" d=\"M 550.705682 445.444773 \nL 591.2875 445.444773 \nL 591.2875 303.525892 \nL 550.705682 303.525892 \nz\n\" style=\"fill:#1f77b4;\"/>\n   </g>\n   <g id=\"patch_16\">\n    <path clip-path=\"url(#pd0c208c718)\" d=\"M 591.2875 445.444773 \nL 631.869318 445.444773 \nL 631.869318 445.444773 \nL 591.2875 445.444773 \nz\n\" style=\"fill:#1f77b4;\"/>\n   </g>\n   <g id=\"patch_17\">\n    <path clip-path=\"url(#pd0c208c718)\" d=\"M 631.869318 445.444773 \nL 672.451136 445.444773 \nL 672.451136 435.30771 \nL 631.869318 435.30771 \nz\n\" style=\"fill:#1f77b4;\"/>\n   </g>\n   <g id=\"matplotlib.axis_1\">\n    <g id=\"xtick_1\">\n     <g id=\"line2d_1\">\n      <defs>\n       <path d=\"M 0 0 \nL 0 3.5 \n\" id=\"m876fdb83a6\" style=\"stroke:#000000;stroke-width:0.8;\"/>\n      </defs>\n      <g>\n       <use style=\"stroke:#000000;stroke-width:0.8;\" x=\"58.189979\" xlink:href=\"#m876fdb83a6\" y=\"445.444773\"/>\n      </g>\n     </g>\n     <g id=\"text_1\">\n      <!-- 0 -->\n      <defs>\n       <path d=\"M 31.78125 66.40625 \nQ 24.171875 66.40625 20.328125 58.90625 \nQ 16.5 51.421875 16.5 36.375 \nQ 16.5 21.390625 20.328125 13.890625 \nQ 24.171875 6.390625 31.78125 6.390625 \nQ 39.453125 6.390625 43.28125 13.890625 \nQ 47.125 21.390625 47.125 36.375 \nQ 47.125 51.421875 43.28125 58.90625 \nQ 39.453125 66.40625 31.78125 66.40625 \nz\nM 31.78125 74.21875 \nQ 44.046875 74.21875 50.515625 64.515625 \nQ 56.984375 54.828125 56.984375 36.375 \nQ 56.984375 17.96875 50.515625 8.265625 \nQ 44.046875 -1.421875 31.78125 -1.421875 \nQ 19.53125 -1.421875 13.0625 8.265625 \nQ 6.59375 17.96875 6.59375 36.375 \nQ 6.59375 54.828125 13.0625 64.515625 \nQ 19.53125 74.21875 31.78125 74.21875 \nz\n\" id=\"DejaVuSans-48\"/>\n      </defs>\n      <g transform=\"translate(55.008729 460.043211)scale(0.1 -0.1)\">\n       <use xlink:href=\"#DejaVuSans-48\"/>\n      </g>\n     </g>\n    </g>\n    <g id=\"xtick_2\">\n     <g id=\"line2d_2\">\n      <g>\n       <use style=\"stroke:#000000;stroke-width:0.8;\" x=\"168.867665\" xlink:href=\"#m876fdb83a6\" y=\"445.444773\"/>\n      </g>\n     </g>\n     <g id=\"text_2\">\n      <!-- 20 -->\n      <defs>\n       <path d=\"M 19.1875 8.296875 \nL 53.609375 8.296875 \nL 53.609375 0 \nL 7.328125 0 \nL 7.328125 8.296875 \nQ 12.9375 14.109375 22.625 23.890625 \nQ 32.328125 33.6875 34.8125 36.53125 \nQ 39.546875 41.84375 41.421875 45.53125 \nQ 43.3125 49.21875 43.3125 52.78125 \nQ 43.3125 58.59375 39.234375 62.25 \nQ 35.15625 65.921875 28.609375 65.921875 \nQ 23.96875 65.921875 18.8125 64.3125 \nQ 13.671875 62.703125 7.8125 59.421875 \nL 7.8125 69.390625 \nQ 13.765625 71.78125 18.9375 73 \nQ 24.125 74.21875 28.421875 74.21875 \nQ 39.75 74.21875 46.484375 68.546875 \nQ 53.21875 62.890625 53.21875 53.421875 \nQ 53.21875 48.921875 51.53125 44.890625 \nQ 49.859375 40.875 45.40625 35.40625 \nQ 44.1875 33.984375 37.640625 27.21875 \nQ 31.109375 20.453125 19.1875 8.296875 \nz\n\" id=\"DejaVuSans-50\"/>\n      </defs>\n      <g transform=\"translate(162.505165 460.043211)scale(0.1 -0.1)\">\n       <use xlink:href=\"#DejaVuSans-50\"/>\n       <use x=\"63.623047\" xlink:href=\"#DejaVuSans-48\"/>\n      </g>\n     </g>\n    </g>\n    <g id=\"xtick_3\">\n     <g id=\"line2d_3\">\n      <g>\n       <use style=\"stroke:#000000;stroke-width:0.8;\" x=\"279.545351\" xlink:href=\"#m876fdb83a6\" y=\"445.444773\"/>\n      </g>\n     </g>\n     <g id=\"text_3\">\n      <!-- 40 -->\n      <defs>\n       <path d=\"M 37.796875 64.3125 \nL 12.890625 25.390625 \nL 37.796875 25.390625 \nz\nM 35.203125 72.90625 \nL 47.609375 72.90625 \nL 47.609375 25.390625 \nL 58.015625 25.390625 \nL 58.015625 17.1875 \nL 47.609375 17.1875 \nL 47.609375 0 \nL 37.796875 0 \nL 37.796875 17.1875 \nL 4.890625 17.1875 \nL 4.890625 26.703125 \nz\n\" id=\"DejaVuSans-52\"/>\n      </defs>\n      <g transform=\"translate(273.182851 460.043211)scale(0.1 -0.1)\">\n       <use xlink:href=\"#DejaVuSans-52\"/>\n       <use x=\"63.623047\" xlink:href=\"#DejaVuSans-48\"/>\n      </g>\n     </g>\n    </g>\n    <g id=\"xtick_4\">\n     <g id=\"line2d_4\">\n      <g>\n       <use style=\"stroke:#000000;stroke-width:0.8;\" x=\"390.223037\" xlink:href=\"#m876fdb83a6\" y=\"445.444773\"/>\n      </g>\n     </g>\n     <g id=\"text_4\">\n      <!-- 60 -->\n      <defs>\n       <path d=\"M 33.015625 40.375 \nQ 26.375 40.375 22.484375 35.828125 \nQ 18.609375 31.296875 18.609375 23.390625 \nQ 18.609375 15.53125 22.484375 10.953125 \nQ 26.375 6.390625 33.015625 6.390625 \nQ 39.65625 6.390625 43.53125 10.953125 \nQ 47.40625 15.53125 47.40625 23.390625 \nQ 47.40625 31.296875 43.53125 35.828125 \nQ 39.65625 40.375 33.015625 40.375 \nz\nM 52.59375 71.296875 \nL 52.59375 62.3125 \nQ 48.875 64.0625 45.09375 64.984375 \nQ 41.3125 65.921875 37.59375 65.921875 \nQ 27.828125 65.921875 22.671875 59.328125 \nQ 17.53125 52.734375 16.796875 39.40625 \nQ 19.671875 43.65625 24.015625 45.921875 \nQ 28.375 48.1875 33.59375 48.1875 \nQ 44.578125 48.1875 50.953125 41.515625 \nQ 57.328125 34.859375 57.328125 23.390625 \nQ 57.328125 12.15625 50.6875 5.359375 \nQ 44.046875 -1.421875 33.015625 -1.421875 \nQ 20.359375 -1.421875 13.671875 8.265625 \nQ 6.984375 17.96875 6.984375 36.375 \nQ 6.984375 53.65625 15.1875 63.9375 \nQ 23.390625 74.21875 37.203125 74.21875 \nQ 40.921875 74.21875 44.703125 73.484375 \nQ 48.484375 72.75 52.59375 71.296875 \nz\n\" id=\"DejaVuSans-54\"/>\n      </defs>\n      <g transform=\"translate(383.860537 460.043211)scale(0.1 -0.1)\">\n       <use xlink:href=\"#DejaVuSans-54\"/>\n       <use x=\"63.623047\" xlink:href=\"#DejaVuSans-48\"/>\n      </g>\n     </g>\n    </g>\n    <g id=\"xtick_5\">\n     <g id=\"line2d_5\">\n      <g>\n       <use style=\"stroke:#000000;stroke-width:0.8;\" x=\"500.900723\" xlink:href=\"#m876fdb83a6\" y=\"445.444773\"/>\n      </g>\n     </g>\n     <g id=\"text_5\">\n      <!-- 80 -->\n      <defs>\n       <path d=\"M 31.78125 34.625 \nQ 24.75 34.625 20.71875 30.859375 \nQ 16.703125 27.09375 16.703125 20.515625 \nQ 16.703125 13.921875 20.71875 10.15625 \nQ 24.75 6.390625 31.78125 6.390625 \nQ 38.8125 6.390625 42.859375 10.171875 \nQ 46.921875 13.96875 46.921875 20.515625 \nQ 46.921875 27.09375 42.890625 30.859375 \nQ 38.875 34.625 31.78125 34.625 \nz\nM 21.921875 38.8125 \nQ 15.578125 40.375 12.03125 44.71875 \nQ 8.5 49.078125 8.5 55.328125 \nQ 8.5 64.0625 14.71875 69.140625 \nQ 20.953125 74.21875 31.78125 74.21875 \nQ 42.671875 74.21875 48.875 69.140625 \nQ 55.078125 64.0625 55.078125 55.328125 \nQ 55.078125 49.078125 51.53125 44.71875 \nQ 48 40.375 41.703125 38.8125 \nQ 48.828125 37.15625 52.796875 32.3125 \nQ 56.78125 27.484375 56.78125 20.515625 \nQ 56.78125 9.90625 50.3125 4.234375 \nQ 43.84375 -1.421875 31.78125 -1.421875 \nQ 19.734375 -1.421875 13.25 4.234375 \nQ 6.78125 9.90625 6.78125 20.515625 \nQ 6.78125 27.484375 10.78125 32.3125 \nQ 14.796875 37.15625 21.921875 38.8125 \nz\nM 18.3125 54.390625 \nQ 18.3125 48.734375 21.84375 45.5625 \nQ 25.390625 42.390625 31.78125 42.390625 \nQ 38.140625 42.390625 41.71875 45.5625 \nQ 45.3125 48.734375 45.3125 54.390625 \nQ 45.3125 60.0625 41.71875 63.234375 \nQ 38.140625 66.40625 31.78125 66.40625 \nQ 25.390625 66.40625 21.84375 63.234375 \nQ 18.3125 60.0625 18.3125 54.390625 \nz\n\" id=\"DejaVuSans-56\"/>\n      </defs>\n      <g transform=\"translate(494.538223 460.043211)scale(0.1 -0.1)\">\n       <use xlink:href=\"#DejaVuSans-56\"/>\n       <use x=\"63.623047\" xlink:href=\"#DejaVuSans-48\"/>\n      </g>\n     </g>\n    </g>\n    <g id=\"xtick_6\">\n     <g id=\"line2d_6\">\n      <g>\n       <use style=\"stroke:#000000;stroke-width:0.8;\" x=\"611.578409\" xlink:href=\"#m876fdb83a6\" y=\"445.444773\"/>\n      </g>\n     </g>\n     <g id=\"text_6\">\n      <!-- 100 -->\n      <defs>\n       <path d=\"M 12.40625 8.296875 \nL 28.515625 8.296875 \nL 28.515625 63.921875 \nL 10.984375 60.40625 \nL 10.984375 69.390625 \nL 28.421875 72.90625 \nL 38.28125 72.90625 \nL 38.28125 8.296875 \nL 54.390625 8.296875 \nL 54.390625 0 \nL 12.40625 0 \nz\n\" id=\"DejaVuSans-49\"/>\n      </defs>\n      <g transform=\"translate(602.034659 460.043211)scale(0.1 -0.1)\">\n       <use xlink:href=\"#DejaVuSans-49\"/>\n       <use x=\"63.623047\" xlink:href=\"#DejaVuSans-48\"/>\n       <use x=\"127.246094\" xlink:href=\"#DejaVuSans-48\"/>\n      </g>\n     </g>\n    </g>\n   </g>\n   <g id=\"matplotlib.axis_2\">\n    <g id=\"ytick_1\">\n     <g id=\"line2d_7\">\n      <defs>\n       <path d=\"M 0 0 \nL -3.5 0 \n\" id=\"m6102335865\" style=\"stroke:#000000;stroke-width:0.8;\"/>\n      </defs>\n      <g>\n       <use style=\"stroke:#000000;stroke-width:0.8;\" x=\"33.2875\" xlink:href=\"#m6102335865\" y=\"445.444773\"/>\n      </g>\n     </g>\n     <g id=\"text_7\">\n      <!-- 0 -->\n      <g transform=\"translate(19.925 449.243992)scale(0.1 -0.1)\">\n       <use xlink:href=\"#DejaVuSans-48\"/>\n      </g>\n     </g>\n    </g>\n    <g id=\"ytick_2\">\n     <g id=\"line2d_8\">\n      <g>\n       <use style=\"stroke:#000000;stroke-width:0.8;\" x=\"33.2875\" xlink:href=\"#m6102335865\" y=\"373.037181\"/>\n      </g>\n     </g>\n     <g id=\"text_8\">\n      <!-- 50 -->\n      <defs>\n       <path d=\"M 10.796875 72.90625 \nL 49.515625 72.90625 \nL 49.515625 64.59375 \nL 19.828125 64.59375 \nL 19.828125 46.734375 \nQ 21.96875 47.46875 24.109375 47.828125 \nQ 26.265625 48.1875 28.421875 48.1875 \nQ 40.625 48.1875 47.75 41.5 \nQ 54.890625 34.8125 54.890625 23.390625 \nQ 54.890625 11.625 47.5625 5.09375 \nQ 40.234375 -1.421875 26.90625 -1.421875 \nQ 22.3125 -1.421875 17.546875 -0.640625 \nQ 12.796875 0.140625 7.71875 1.703125 \nL 7.71875 11.625 \nQ 12.109375 9.234375 16.796875 8.0625 \nQ 21.484375 6.890625 26.703125 6.890625 \nQ 35.15625 6.890625 40.078125 11.328125 \nQ 45.015625 15.765625 45.015625 23.390625 \nQ 45.015625 31 40.078125 35.4375 \nQ 35.15625 39.890625 26.703125 39.890625 \nQ 22.75 39.890625 18.8125 39.015625 \nQ 14.890625 38.140625 10.796875 36.28125 \nz\n\" id=\"DejaVuSans-53\"/>\n      </defs>\n      <g transform=\"translate(13.5625 376.8364)scale(0.1 -0.1)\">\n       <use xlink:href=\"#DejaVuSans-53\"/>\n       <use x=\"63.623047\" xlink:href=\"#DejaVuSans-48\"/>\n      </g>\n     </g>\n    </g>\n    <g id=\"ytick_3\">\n     <g id=\"line2d_9\">\n      <g>\n       <use style=\"stroke:#000000;stroke-width:0.8;\" x=\"33.2875\" xlink:href=\"#m6102335865\" y=\"300.629588\"/>\n      </g>\n     </g>\n     <g id=\"text_9\">\n      <!-- 100 -->\n      <g transform=\"translate(7.2 304.428807)scale(0.1 -0.1)\">\n       <use xlink:href=\"#DejaVuSans-49\"/>\n       <use x=\"63.623047\" xlink:href=\"#DejaVuSans-48\"/>\n       <use x=\"127.246094\" xlink:href=\"#DejaVuSans-48\"/>\n      </g>\n     </g>\n    </g>\n    <g id=\"ytick_4\">\n     <g id=\"line2d_10\">\n      <g>\n       <use style=\"stroke:#000000;stroke-width:0.8;\" x=\"33.2875\" xlink:href=\"#m6102335865\" y=\"228.221996\"/>\n      </g>\n     </g>\n     <g id=\"text_10\">\n      <!-- 150 -->\n      <g transform=\"translate(7.2 232.021215)scale(0.1 -0.1)\">\n       <use xlink:href=\"#DejaVuSans-49\"/>\n       <use x=\"63.623047\" xlink:href=\"#DejaVuSans-53\"/>\n       <use x=\"127.246094\" xlink:href=\"#DejaVuSans-48\"/>\n      </g>\n     </g>\n    </g>\n    <g id=\"ytick_5\">\n     <g id=\"line2d_11\">\n      <g>\n       <use style=\"stroke:#000000;stroke-width:0.8;\" x=\"33.2875\" xlink:href=\"#m6102335865\" y=\"155.814404\"/>\n      </g>\n     </g>\n     <g id=\"text_11\">\n      <!-- 200 -->\n      <g transform=\"translate(7.2 159.613622)scale(0.1 -0.1)\">\n       <use xlink:href=\"#DejaVuSans-50\"/>\n       <use x=\"63.623047\" xlink:href=\"#DejaVuSans-48\"/>\n       <use x=\"127.246094\" xlink:href=\"#DejaVuSans-48\"/>\n      </g>\n     </g>\n    </g>\n    <g id=\"ytick_6\">\n     <g id=\"line2d_12\">\n      <g>\n       <use style=\"stroke:#000000;stroke-width:0.8;\" x=\"33.2875\" xlink:href=\"#m6102335865\" y=\"83.406811\"/>\n      </g>\n     </g>\n     <g id=\"text_12\">\n      <!-- 250 -->\n      <g transform=\"translate(7.2 87.20603)scale(0.1 -0.1)\">\n       <use xlink:href=\"#DejaVuSans-50\"/>\n       <use x=\"63.623047\" xlink:href=\"#DejaVuSans-53\"/>\n       <use x=\"127.246094\" xlink:href=\"#DejaVuSans-48\"/>\n      </g>\n     </g>\n    </g>\n    <g id=\"ytick_7\">\n     <g id=\"line2d_13\">\n      <g>\n       <use style=\"stroke:#000000;stroke-width:0.8;\" x=\"33.2875\" xlink:href=\"#m6102335865\" y=\"10.999219\"/>\n      </g>\n     </g>\n     <g id=\"text_13\">\n      <!-- 300 -->\n      <defs>\n       <path d=\"M 40.578125 39.3125 \nQ 47.65625 37.796875 51.625 33 \nQ 55.609375 28.21875 55.609375 21.1875 \nQ 55.609375 10.40625 48.1875 4.484375 \nQ 40.765625 -1.421875 27.09375 -1.421875 \nQ 22.515625 -1.421875 17.65625 -0.515625 \nQ 12.796875 0.390625 7.625 2.203125 \nL 7.625 11.71875 \nQ 11.71875 9.328125 16.59375 8.109375 \nQ 21.484375 6.890625 26.8125 6.890625 \nQ 36.078125 6.890625 40.9375 10.546875 \nQ 45.796875 14.203125 45.796875 21.1875 \nQ 45.796875 27.640625 41.28125 31.265625 \nQ 36.765625 34.90625 28.71875 34.90625 \nL 20.21875 34.90625 \nL 20.21875 43.015625 \nL 29.109375 43.015625 \nQ 36.375 43.015625 40.234375 45.921875 \nQ 44.09375 48.828125 44.09375 54.296875 \nQ 44.09375 59.90625 40.109375 62.90625 \nQ 36.140625 65.921875 28.71875 65.921875 \nQ 24.65625 65.921875 20.015625 65.03125 \nQ 15.375 64.15625 9.8125 62.3125 \nL 9.8125 71.09375 \nQ 15.4375 72.65625 20.34375 73.4375 \nQ 25.25 74.21875 29.59375 74.21875 \nQ 40.828125 74.21875 47.359375 69.109375 \nQ 53.90625 64.015625 53.90625 55.328125 \nQ 53.90625 49.265625 50.4375 45.09375 \nQ 46.96875 40.921875 40.578125 39.3125 \nz\n\" id=\"DejaVuSans-51\"/>\n      </defs>\n      <g transform=\"translate(7.2 14.798437)scale(0.1 -0.1)\">\n       <use xlink:href=\"#DejaVuSans-51\"/>\n       <use x=\"63.623047\" xlink:href=\"#DejaVuSans-48\"/>\n       <use x=\"127.246094\" xlink:href=\"#DejaVuSans-48\"/>\n      </g>\n     </g>\n    </g>\n   </g>\n   <g id=\"patch_18\">\n    <path d=\"M 33.2875 445.444773 \nL 33.2875 10.564773 \n\" style=\"fill:none;stroke:#000000;stroke-linecap:square;stroke-linejoin:miter;stroke-width:0.8;\"/>\n   </g>\n   <g id=\"patch_19\">\n    <path d=\"M 702.8875 445.444773 \nL 702.8875 10.564773 \n\" style=\"fill:none;stroke:#000000;stroke-linecap:square;stroke-linejoin:miter;stroke-width:0.8;\"/>\n   </g>\n   <g id=\"patch_20\">\n    <path d=\"M 33.2875 445.444773 \nL 702.8875 445.444773 \n\" style=\"fill:none;stroke:#000000;stroke-linecap:square;stroke-linejoin:miter;stroke-width:0.8;\"/>\n   </g>\n   <g id=\"patch_21\">\n    <path d=\"M 33.2875 10.564773 \nL 702.8875 10.564773 \n\" style=\"fill:none;stroke:#000000;stroke-linecap:square;stroke-linejoin:miter;stroke-width:0.8;\"/>\n   </g>\n  </g>\n </g>\n <defs>\n  <clipPath id=\"pd0c208c718\">\n   <rect height=\"434.88\" width=\"669.6\" x=\"33.2875\" y=\"10.564773\"/>\n  </clipPath>\n </defs>\n</svg>\n",
      "image/png": "[encoded data removed]"
     },
     "metadata": {
      "needs_background": "light"
     }
    }
   ],
   "source": [
    "plt.figure(figsize=(12, 8))\n",
    "plt.hist(nan_amount_test, bins=15)\n",
    "plt.show()"
   ]
  },
  {
   "source": [
    "### Идея для feature constuction\n",
    "\n",
    "### Добавить категорию с ближайшим пиком (только подумать как к трэину применить)"
   ],
   "cell_type": "markdown",
   "metadata": {}
  },
  {
   "source": [
    "## Пройдусь по фичам"
   ],
   "cell_type": "markdown",
   "metadata": {}
  },
  {
   "cell_type": "code",
   "execution_count": 42,
   "metadata": {},
   "outputs": [
    {
     "output_type": "execute_result",
     "data": {
      "text/plain": [
       "Index(['Year', 'Field ID', 'Field Area', 'Day 1', 'Day 2', 'Day 3', 'Day 4',\n",
       "       'Day 5', 'Day 6', 'Day 7',\n",
       "       ...\n",
       "       'Day 358', 'Day 359', 'Day 360', 'Day 361', 'Day 362', 'Day 363',\n",
       "       'Day 364', 'Day 365', 'Day 366', 'Culture'],\n",
       "      dtype='object', length=370)"
      ]
     },
     "metadata": {},
     "execution_count": 42
    }
   ],
   "source": [
    "train.columns"
   ]
  },
  {
   "cell_type": "code",
   "execution_count": 41,
   "metadata": {},
   "outputs": [
    {
     "output_type": "execute_result",
     "data": {
      "text/plain": [
       "2018    925\n",
       "2017    643\n",
       "2019    476\n",
       "2016    447\n",
       "2015    347\n",
       "Name: Year, dtype: int64"
      ]
     },
     "metadata": {},
     "execution_count": 41
    }
   ],
   "source": [
    "train['Year'].value_counts()"
   ]
  },
  {
   "source": [
    "### Сделать категориальную one-hot или сохранить же последовательную информацию о году?"
   ],
   "cell_type": "markdown",
   "metadata": {}
  },
  {
   "cell_type": "code",
   "execution_count": 43,
   "metadata": {},
   "outputs": [
    {
     "output_type": "execute_result",
     "data": {
      "text/plain": [
       "2019    934\n",
       "2018      3\n",
       "2017      1\n",
       "2015      1\n",
       "Name: Year, dtype: int64"
      ]
     },
     "metadata": {},
     "execution_count": 43
    }
   ],
   "source": [
    "test['Year'].value_counts()"
   ]
  },
  {
   "source": [
    "### В тесте почти все 2019 года, выбросить остальные года или оставить???"
   ],
   "cell_type": "markdown",
   "metadata": {}
  },
  {
   "cell_type": "code",
   "execution_count": 44,
   "metadata": {},
   "outputs": [
    {
     "output_type": "execute_result",
     "data": {
      "text/plain": [
       "1524"
      ]
     },
     "metadata": {},
     "execution_count": 44
    }
   ],
   "source": [
    "train['Field ID'].nunique()"
   ]
  },
  {
   "cell_type": "code",
   "execution_count": 45,
   "metadata": {},
   "outputs": [
    {
     "output_type": "execute_result",
     "data": {
      "text/plain": [
       "874"
      ]
     },
     "metadata": {},
     "execution_count": 45
    }
   ],
   "source": [
    "test['Field ID'].nunique()"
   ]
  },
  {
   "cell_type": "code",
   "execution_count": 46,
   "metadata": {},
   "outputs": [
    {
     "output_type": "execute_result",
     "data": {
      "text/plain": [
       "1      305\n",
       "3      179\n",
       "4      282\n",
       "5      881\n",
       "7      149\n",
       "      ... \n",
       "929    862\n",
       "933    142\n",
       "934    665\n",
       "936    875\n",
       "937    301\n",
       "Name: Field ID, Length: 570, dtype: int64"
      ]
     },
     "metadata": {},
     "execution_count": 46
    }
   ],
   "source": [
    "test['Field ID'][test['Field ID'].isin(train['Field ID'])]"
   ]
  },
  {
   "source": [
    "### 2/3 теста известны, остальные нет))"
   ],
   "cell_type": "markdown",
   "metadata": {}
  },
  {
   "cell_type": "code",
   "execution_count": 48,
   "metadata": {},
   "outputs": [
    {
     "output_type": "execute_result",
     "data": {
      "text/plain": [
       "<matplotlib.axes._subplots.AxesSubplot at 0x7f243747b890>"
      ]
     },
     "metadata": {},
     "execution_count": 48
    },
    {
     "output_type": "display_data",
     "data": {
      "text/plain": "<Figure size 432x288 with 1 Axes>",
      "image/svg+xml": "<?xml version=\"1.0\" encoding=\"utf-8\" standalone=\"no\"?>\n<!DOCTYPE svg PUBLIC \"-//W3C//DTD SVG 1.1//EN\"\n  \"http://www.w3.org/Graphics/SVG/1.1/DTD/svg11.dtd\">\n<!-- Created with matplotlib (https://matplotlib.org/) -->\n<svg height=\"248.518125pt\" version=\"1.1\" viewBox=\"0 0 381.65 248.518125\" width=\"381.65pt\" xmlns=\"http://www.w3.org/2000/svg\" xmlns:xlink=\"http://www.w3.org/1999/xlink\">\n <defs>\n  <style type=\"text/css\">\n*{stroke-linecap:butt;stroke-linejoin:round;}\n  </style>\n </defs>\n <g id=\"figure_1\">\n  <g id=\"patch_1\">\n   <path d=\"M -0 248.518125 \nL 381.65 248.518125 \nL 381.65 0 \nL -0 0 \nz\n\" style=\"fill:none;\"/>\n  </g>\n  <g id=\"axes_1\">\n   <g id=\"patch_2\">\n    <path d=\"M 39.65 224.64 \nL 374.45 224.64 \nL 374.45 7.2 \nL 39.65 7.2 \nz\n\" style=\"fill:#ffffff;\"/>\n   </g>\n   <g id=\"patch_3\">\n    <path clip-path=\"url(#pdb0cd0968c)\" d=\"M 54.868182 224.64 \nL 85.304545 224.64 \nL 85.304545 125.572622 \nL 54.868182 125.572622 \nz\n\" style=\"fill:#1f77b4;\"/>\n   </g>\n   <g id=\"patch_4\">\n    <path clip-path=\"url(#pdb0cd0968c)\" d=\"M 85.304545 224.64 \nL 115.740909 224.64 \nL 115.740909 17.554286 \nL 85.304545 17.554286 \nz\n\" style=\"fill:#1f77b4;\"/>\n   </g>\n   <g id=\"patch_5\">\n    <path clip-path=\"url(#pdb0cd0968c)\" d=\"M 115.740909 224.64 \nL 146.177273 224.64 \nL 146.177273 153.335761 \nL 115.740909 153.335761 \nz\n\" style=\"fill:#1f77b4;\"/>\n   </g>\n   <g id=\"patch_6\">\n    <path clip-path=\"url(#pdb0cd0968c)\" d=\"M 146.177273 224.64 \nL 176.613636 224.64 \nL 176.613636 200.517928 \nL 146.177273 200.517928 \nz\n\" style=\"fill:#1f77b4;\"/>\n   </g>\n   <g id=\"patch_7\">\n    <path clip-path=\"url(#pdb0cd0968c)\" d=\"M 176.613636 224.64 \nL 207.05 224.64 \nL 207.05 211.137708 \nL 176.613636 211.137708 \nz\n\" style=\"fill:#1f77b4;\"/>\n   </g>\n   <g id=\"patch_8\">\n    <path clip-path=\"url(#pdb0cd0968c)\" d=\"M 207.05 224.64 \nL 237.486364 224.64 \nL 237.486364 216.447598 \nL 207.05 216.447598 \nz\n\" style=\"fill:#1f77b4;\"/>\n   </g>\n   <g id=\"patch_9\">\n    <path clip-path=\"url(#pdb0cd0968c)\" d=\"M 237.486364 224.64 \nL 267.922727 224.64 \nL 267.922727 222.364333 \nL 237.486364 222.364333 \nz\n\" style=\"fill:#1f77b4;\"/>\n   </g>\n   <g id=\"patch_10\">\n    <path clip-path=\"url(#pdb0cd0968c)\" d=\"M 267.922727 224.64 \nL 298.359091 224.64 \nL 298.359091 223.122889 \nL 267.922727 223.122889 \nz\n\" style=\"fill:#1f77b4;\"/>\n   </g>\n   <g id=\"patch_11\">\n    <path clip-path=\"url(#pdb0cd0968c)\" d=\"M 298.359091 224.64 \nL 328.795455 224.64 \nL 328.795455 222.971177 \nL 298.359091 222.971177 \nz\n\" style=\"fill:#1f77b4;\"/>\n   </g>\n   <g id=\"patch_12\">\n    <path clip-path=\"url(#pdb0cd0968c)\" d=\"M 328.795455 224.64 \nL 359.231818 224.64 \nL 359.231818 222.819466 \nL 328.795455 222.819466 \nz\n\" style=\"fill:#1f77b4;\"/>\n   </g>\n   <g id=\"matplotlib.axis_1\">\n    <g id=\"xtick_1\">\n     <g id=\"line2d_1\">\n      <path clip-path=\"url(#pdb0cd0968c)\" d=\"M 51.581709 224.64 \nL 51.581709 7.2 \n\" style=\"fill:none;stroke:#b0b0b0;stroke-linecap:square;stroke-width:0.8;\"/>\n     </g>\n     <g id=\"line2d_2\">\n      <defs>\n       <path d=\"M 0 0 \nL 0 3.5 \n\" id=\"m99ee1b094f\" style=\"stroke:#000000;stroke-width:0.8;\"/>\n      </defs>\n      <g>\n       <use style=\"stroke:#000000;stroke-width:0.8;\" x=\"51.581709\" xlink:href=\"#m99ee1b094f\" y=\"224.64\"/>\n      </g>\n     </g>\n     <g id=\"text_1\">\n      <!-- 0 -->\n      <defs>\n       <path d=\"M 31.78125 66.40625 \nQ 24.171875 66.40625 20.328125 58.90625 \nQ 16.5 51.421875 16.5 36.375 \nQ 16.5 21.390625 20.328125 13.890625 \nQ 24.171875 6.390625 31.78125 6.390625 \nQ 39.453125 6.390625 43.28125 13.890625 \nQ 47.125 21.390625 47.125 36.375 \nQ 47.125 51.421875 43.28125 58.90625 \nQ 39.453125 66.40625 31.78125 66.40625 \nz\nM 31.78125 74.21875 \nQ 44.046875 74.21875 50.515625 64.515625 \nQ 56.984375 54.828125 56.984375 36.375 \nQ 56.984375 17.96875 50.515625 8.265625 \nQ 44.046875 -1.421875 31.78125 -1.421875 \nQ 19.53125 -1.421875 13.0625 8.265625 \nQ 6.59375 17.96875 6.59375 36.375 \nQ 6.59375 54.828125 13.0625 64.515625 \nQ 19.53125 74.21875 31.78125 74.21875 \nz\n\" id=\"DejaVuSans-48\"/>\n      </defs>\n      <g transform=\"translate(48.400459 239.238437)scale(0.1 -0.1)\">\n       <use xlink:href=\"#DejaVuSans-48\"/>\n      </g>\n     </g>\n    </g>\n    <g id=\"xtick_2\">\n     <g id=\"line2d_3\">\n      <path clip-path=\"url(#pdb0cd0968c)\" d=\"M 106.447706 224.64 \nL 106.447706 7.2 \n\" style=\"fill:none;stroke:#b0b0b0;stroke-linecap:square;stroke-width:0.8;\"/>\n     </g>\n     <g id=\"line2d_4\">\n      <g>\n       <use style=\"stroke:#000000;stroke-width:0.8;\" x=\"106.447706\" xlink:href=\"#m99ee1b094f\" y=\"224.64\"/>\n      </g>\n     </g>\n     <g id=\"text_2\">\n      <!-- 100 -->\n      <defs>\n       <path d=\"M 12.40625 8.296875 \nL 28.515625 8.296875 \nL 28.515625 63.921875 \nL 10.984375 60.40625 \nL 10.984375 69.390625 \nL 28.421875 72.90625 \nL 38.28125 72.90625 \nL 38.28125 8.296875 \nL 54.390625 8.296875 \nL 54.390625 0 \nL 12.40625 0 \nz\n\" id=\"DejaVuSans-49\"/>\n      </defs>\n      <g transform=\"translate(96.903956 239.238437)scale(0.1 -0.1)\">\n       <use xlink:href=\"#DejaVuSans-49\"/>\n       <use x=\"63.623047\" xlink:href=\"#DejaVuSans-48\"/>\n       <use x=\"127.246094\" xlink:href=\"#DejaVuSans-48\"/>\n      </g>\n     </g>\n    </g>\n    <g id=\"xtick_3\">\n     <g id=\"line2d_5\">\n      <path clip-path=\"url(#pdb0cd0968c)\" d=\"M 161.313704 224.64 \nL 161.313704 7.2 \n\" style=\"fill:none;stroke:#b0b0b0;stroke-linecap:square;stroke-width:0.8;\"/>\n     </g>\n     <g id=\"line2d_6\">\n      <g>\n       <use style=\"stroke:#000000;stroke-width:0.8;\" x=\"161.313704\" xlink:href=\"#m99ee1b094f\" y=\"224.64\"/>\n      </g>\n     </g>\n     <g id=\"text_3\">\n      <!-- 200 -->\n      <defs>\n       <path d=\"M 19.1875 8.296875 \nL 53.609375 8.296875 \nL 53.609375 0 \nL 7.328125 0 \nL 7.328125 8.296875 \nQ 12.9375 14.109375 22.625 23.890625 \nQ 32.328125 33.6875 34.8125 36.53125 \nQ 39.546875 41.84375 41.421875 45.53125 \nQ 43.3125 49.21875 43.3125 52.78125 \nQ 43.3125 58.59375 39.234375 62.25 \nQ 35.15625 65.921875 28.609375 65.921875 \nQ 23.96875 65.921875 18.8125 64.3125 \nQ 13.671875 62.703125 7.8125 59.421875 \nL 7.8125 69.390625 \nQ 13.765625 71.78125 18.9375 73 \nQ 24.125 74.21875 28.421875 74.21875 \nQ 39.75 74.21875 46.484375 68.546875 \nQ 53.21875 62.890625 53.21875 53.421875 \nQ 53.21875 48.921875 51.53125 44.890625 \nQ 49.859375 40.875 45.40625 35.40625 \nQ 44.1875 33.984375 37.640625 27.21875 \nQ 31.109375 20.453125 19.1875 8.296875 \nz\n\" id=\"DejaVuSans-50\"/>\n      </defs>\n      <g transform=\"translate(151.769954 239.238437)scale(0.1 -0.1)\">\n       <use xlink:href=\"#DejaVuSans-50\"/>\n       <use x=\"63.623047\" xlink:href=\"#DejaVuSans-48\"/>\n       <use x=\"127.246094\" xlink:href=\"#DejaVuSans-48\"/>\n      </g>\n     </g>\n    </g>\n    <g id=\"xtick_4\">\n     <g id=\"line2d_7\">\n      <path clip-path=\"url(#pdb0cd0968c)\" d=\"M 216.179702 224.64 \nL 216.179702 7.2 \n\" style=\"fill:none;stroke:#b0b0b0;stroke-linecap:square;stroke-width:0.8;\"/>\n     </g>\n     <g id=\"line2d_8\">\n      <g>\n       <use style=\"stroke:#000000;stroke-width:0.8;\" x=\"216.179702\" xlink:href=\"#m99ee1b094f\" y=\"224.64\"/>\n      </g>\n     </g>\n     <g id=\"text_4\">\n      <!-- 300 -->\n      <defs>\n       <path d=\"M 40.578125 39.3125 \nQ 47.65625 37.796875 51.625 33 \nQ 55.609375 28.21875 55.609375 21.1875 \nQ 55.609375 10.40625 48.1875 4.484375 \nQ 40.765625 -1.421875 27.09375 -1.421875 \nQ 22.515625 -1.421875 17.65625 -0.515625 \nQ 12.796875 0.390625 7.625 2.203125 \nL 7.625 11.71875 \nQ 11.71875 9.328125 16.59375 8.109375 \nQ 21.484375 6.890625 26.8125 6.890625 \nQ 36.078125 6.890625 40.9375 10.546875 \nQ 45.796875 14.203125 45.796875 21.1875 \nQ 45.796875 27.640625 41.28125 31.265625 \nQ 36.765625 34.90625 28.71875 34.90625 \nL 20.21875 34.90625 \nL 20.21875 43.015625 \nL 29.109375 43.015625 \nQ 36.375 43.015625 40.234375 45.921875 \nQ 44.09375 48.828125 44.09375 54.296875 \nQ 44.09375 59.90625 40.109375 62.90625 \nQ 36.140625 65.921875 28.71875 65.921875 \nQ 24.65625 65.921875 20.015625 65.03125 \nQ 15.375 64.15625 9.8125 62.3125 \nL 9.8125 71.09375 \nQ 15.4375 72.65625 20.34375 73.4375 \nQ 25.25 74.21875 29.59375 74.21875 \nQ 40.828125 74.21875 47.359375 69.109375 \nQ 53.90625 64.015625 53.90625 55.328125 \nQ 53.90625 49.265625 50.4375 45.09375 \nQ 46.96875 40.921875 40.578125 39.3125 \nz\n\" id=\"DejaVuSans-51\"/>\n      </defs>\n      <g transform=\"translate(206.635952 239.238437)scale(0.1 -0.1)\">\n       <use xlink:href=\"#DejaVuSans-51\"/>\n       <use x=\"63.623047\" xlink:href=\"#DejaVuSans-48\"/>\n       <use x=\"127.246094\" xlink:href=\"#DejaVuSans-48\"/>\n      </g>\n     </g>\n    </g>\n    <g id=\"xtick_5\">\n     <g id=\"line2d_9\">\n      <path clip-path=\"url(#pdb0cd0968c)\" d=\"M 271.0457 224.64 \nL 271.0457 7.2 \n\" style=\"fill:none;stroke:#b0b0b0;stroke-linecap:square;stroke-width:0.8;\"/>\n     </g>\n     <g id=\"line2d_10\">\n      <g>\n       <use style=\"stroke:#000000;stroke-width:0.8;\" x=\"271.0457\" xlink:href=\"#m99ee1b094f\" y=\"224.64\"/>\n      </g>\n     </g>\n     <g id=\"text_5\">\n      <!-- 400 -->\n      <defs>\n       <path d=\"M 37.796875 64.3125 \nL 12.890625 25.390625 \nL 37.796875 25.390625 \nz\nM 35.203125 72.90625 \nL 47.609375 72.90625 \nL 47.609375 25.390625 \nL 58.015625 25.390625 \nL 58.015625 17.1875 \nL 47.609375 17.1875 \nL 47.609375 0 \nL 37.796875 0 \nL 37.796875 17.1875 \nL 4.890625 17.1875 \nL 4.890625 26.703125 \nz\n\" id=\"DejaVuSans-52\"/>\n      </defs>\n      <g transform=\"translate(261.50195 239.238437)scale(0.1 -0.1)\">\n       <use xlink:href=\"#DejaVuSans-52\"/>\n       <use x=\"63.623047\" xlink:href=\"#DejaVuSans-48\"/>\n       <use x=\"127.246094\" xlink:href=\"#DejaVuSans-48\"/>\n      </g>\n     </g>\n    </g>\n    <g id=\"xtick_6\">\n     <g id=\"line2d_11\">\n      <path clip-path=\"url(#pdb0cd0968c)\" d=\"M 325.911698 224.64 \nL 325.911698 7.2 \n\" style=\"fill:none;stroke:#b0b0b0;stroke-linecap:square;stroke-width:0.8;\"/>\n     </g>\n     <g id=\"line2d_12\">\n      <g>\n       <use style=\"stroke:#000000;stroke-width:0.8;\" x=\"325.911698\" xlink:href=\"#m99ee1b094f\" y=\"224.64\"/>\n      </g>\n     </g>\n     <g id=\"text_6\">\n      <!-- 500 -->\n      <defs>\n       <path d=\"M 10.796875 72.90625 \nL 49.515625 72.90625 \nL 49.515625 64.59375 \nL 19.828125 64.59375 \nL 19.828125 46.734375 \nQ 21.96875 47.46875 24.109375 47.828125 \nQ 26.265625 48.1875 28.421875 48.1875 \nQ 40.625 48.1875 47.75 41.5 \nQ 54.890625 34.8125 54.890625 23.390625 \nQ 54.890625 11.625 47.5625 5.09375 \nQ 40.234375 -1.421875 26.90625 -1.421875 \nQ 22.3125 -1.421875 17.546875 -0.640625 \nQ 12.796875 0.140625 7.71875 1.703125 \nL 7.71875 11.625 \nQ 12.109375 9.234375 16.796875 8.0625 \nQ 21.484375 6.890625 26.703125 6.890625 \nQ 35.15625 6.890625 40.078125 11.328125 \nQ 45.015625 15.765625 45.015625 23.390625 \nQ 45.015625 31 40.078125 35.4375 \nQ 35.15625 39.890625 26.703125 39.890625 \nQ 22.75 39.890625 18.8125 39.015625 \nQ 14.890625 38.140625 10.796875 36.28125 \nz\n\" id=\"DejaVuSans-53\"/>\n      </defs>\n      <g transform=\"translate(316.367948 239.238437)scale(0.1 -0.1)\">\n       <use xlink:href=\"#DejaVuSans-53\"/>\n       <use x=\"63.623047\" xlink:href=\"#DejaVuSans-48\"/>\n       <use x=\"127.246094\" xlink:href=\"#DejaVuSans-48\"/>\n      </g>\n     </g>\n    </g>\n   </g>\n   <g id=\"matplotlib.axis_2\">\n    <g id=\"ytick_1\">\n     <g id=\"line2d_13\">\n      <path clip-path=\"url(#pdb0cd0968c)\" d=\"M 39.65 224.64 \nL 374.45 224.64 \n\" style=\"fill:none;stroke:#b0b0b0;stroke-linecap:square;stroke-width:0.8;\"/>\n     </g>\n     <g id=\"line2d_14\">\n      <defs>\n       <path d=\"M 0 0 \nL -3.5 0 \n\" id=\"mf46881b959\" style=\"stroke:#000000;stroke-width:0.8;\"/>\n      </defs>\n      <g>\n       <use style=\"stroke:#000000;stroke-width:0.8;\" x=\"39.65\" xlink:href=\"#mf46881b959\" y=\"224.64\"/>\n      </g>\n     </g>\n     <g id=\"text_7\">\n      <!-- 0 -->\n      <g transform=\"translate(26.2875 228.439219)scale(0.1 -0.1)\">\n       <use xlink:href=\"#DejaVuSans-48\"/>\n      </g>\n     </g>\n    </g>\n    <g id=\"ytick_2\">\n     <g id=\"line2d_15\">\n      <path clip-path=\"url(#pdb0cd0968c)\" d=\"M 39.65 194.297771 \nL 374.45 194.297771 \n\" style=\"fill:none;stroke:#b0b0b0;stroke-linecap:square;stroke-width:0.8;\"/>\n     </g>\n     <g id=\"line2d_16\">\n      <g>\n       <use style=\"stroke:#000000;stroke-width:0.8;\" x=\"39.65\" xlink:href=\"#mf46881b959\" y=\"194.297771\"/>\n      </g>\n     </g>\n     <g id=\"text_8\">\n      <!-- 200 -->\n      <g transform=\"translate(13.5625 198.09699)scale(0.1 -0.1)\">\n       <use xlink:href=\"#DejaVuSans-50\"/>\n       <use x=\"63.623047\" xlink:href=\"#DejaVuSans-48\"/>\n       <use x=\"127.246094\" xlink:href=\"#DejaVuSans-48\"/>\n      </g>\n     </g>\n    </g>\n    <g id=\"ytick_3\">\n     <g id=\"line2d_17\">\n      <path clip-path=\"url(#pdb0cd0968c)\" d=\"M 39.65 163.955542 \nL 374.45 163.955542 \n\" style=\"fill:none;stroke:#b0b0b0;stroke-linecap:square;stroke-width:0.8;\"/>\n     </g>\n     <g id=\"line2d_18\">\n      <g>\n       <use style=\"stroke:#000000;stroke-width:0.8;\" x=\"39.65\" xlink:href=\"#mf46881b959\" y=\"163.955542\"/>\n      </g>\n     </g>\n     <g id=\"text_9\">\n      <!-- 400 -->\n      <g transform=\"translate(13.5625 167.75476)scale(0.1 -0.1)\">\n       <use xlink:href=\"#DejaVuSans-52\"/>\n       <use x=\"63.623047\" xlink:href=\"#DejaVuSans-48\"/>\n       <use x=\"127.246094\" xlink:href=\"#DejaVuSans-48\"/>\n      </g>\n     </g>\n    </g>\n    <g id=\"ytick_4\">\n     <g id=\"line2d_19\">\n      <path clip-path=\"url(#pdb0cd0968c)\" d=\"M 39.65 133.613312 \nL 374.45 133.613312 \n\" style=\"fill:none;stroke:#b0b0b0;stroke-linecap:square;stroke-width:0.8;\"/>\n     </g>\n     <g id=\"line2d_20\">\n      <g>\n       <use style=\"stroke:#000000;stroke-width:0.8;\" x=\"39.65\" xlink:href=\"#mf46881b959\" y=\"133.613312\"/>\n      </g>\n     </g>\n     <g id=\"text_10\">\n      <!-- 600 -->\n      <defs>\n       <path d=\"M 33.015625 40.375 \nQ 26.375 40.375 22.484375 35.828125 \nQ 18.609375 31.296875 18.609375 23.390625 \nQ 18.609375 15.53125 22.484375 10.953125 \nQ 26.375 6.390625 33.015625 6.390625 \nQ 39.65625 6.390625 43.53125 10.953125 \nQ 47.40625 15.53125 47.40625 23.390625 \nQ 47.40625 31.296875 43.53125 35.828125 \nQ 39.65625 40.375 33.015625 40.375 \nz\nM 52.59375 71.296875 \nL 52.59375 62.3125 \nQ 48.875 64.0625 45.09375 64.984375 \nQ 41.3125 65.921875 37.59375 65.921875 \nQ 27.828125 65.921875 22.671875 59.328125 \nQ 17.53125 52.734375 16.796875 39.40625 \nQ 19.671875 43.65625 24.015625 45.921875 \nQ 28.375 48.1875 33.59375 48.1875 \nQ 44.578125 48.1875 50.953125 41.515625 \nQ 57.328125 34.859375 57.328125 23.390625 \nQ 57.328125 12.15625 50.6875 5.359375 \nQ 44.046875 -1.421875 33.015625 -1.421875 \nQ 20.359375 -1.421875 13.671875 8.265625 \nQ 6.984375 17.96875 6.984375 36.375 \nQ 6.984375 53.65625 15.1875 63.9375 \nQ 23.390625 74.21875 37.203125 74.21875 \nQ 40.921875 74.21875 44.703125 73.484375 \nQ 48.484375 72.75 52.59375 71.296875 \nz\n\" id=\"DejaVuSans-54\"/>\n      </defs>\n      <g transform=\"translate(13.5625 137.412531)scale(0.1 -0.1)\">\n       <use xlink:href=\"#DejaVuSans-54\"/>\n       <use x=\"63.623047\" xlink:href=\"#DejaVuSans-48\"/>\n       <use x=\"127.246094\" xlink:href=\"#DejaVuSans-48\"/>\n      </g>\n     </g>\n    </g>\n    <g id=\"ytick_5\">\n     <g id=\"line2d_21\">\n      <path clip-path=\"url(#pdb0cd0968c)\" d=\"M 39.65 103.271083 \nL 374.45 103.271083 \n\" style=\"fill:none;stroke:#b0b0b0;stroke-linecap:square;stroke-width:0.8;\"/>\n     </g>\n     <g id=\"line2d_22\">\n      <g>\n       <use style=\"stroke:#000000;stroke-width:0.8;\" x=\"39.65\" xlink:href=\"#mf46881b959\" y=\"103.271083\"/>\n      </g>\n     </g>\n     <g id=\"text_11\">\n      <!-- 800 -->\n      <defs>\n       <path d=\"M 31.78125 34.625 \nQ 24.75 34.625 20.71875 30.859375 \nQ 16.703125 27.09375 16.703125 20.515625 \nQ 16.703125 13.921875 20.71875 10.15625 \nQ 24.75 6.390625 31.78125 6.390625 \nQ 38.8125 6.390625 42.859375 10.171875 \nQ 46.921875 13.96875 46.921875 20.515625 \nQ 46.921875 27.09375 42.890625 30.859375 \nQ 38.875 34.625 31.78125 34.625 \nz\nM 21.921875 38.8125 \nQ 15.578125 40.375 12.03125 44.71875 \nQ 8.5 49.078125 8.5 55.328125 \nQ 8.5 64.0625 14.71875 69.140625 \nQ 20.953125 74.21875 31.78125 74.21875 \nQ 42.671875 74.21875 48.875 69.140625 \nQ 55.078125 64.0625 55.078125 55.328125 \nQ 55.078125 49.078125 51.53125 44.71875 \nQ 48 40.375 41.703125 38.8125 \nQ 48.828125 37.15625 52.796875 32.3125 \nQ 56.78125 27.484375 56.78125 20.515625 \nQ 56.78125 9.90625 50.3125 4.234375 \nQ 43.84375 -1.421875 31.78125 -1.421875 \nQ 19.734375 -1.421875 13.25 4.234375 \nQ 6.78125 9.90625 6.78125 20.515625 \nQ 6.78125 27.484375 10.78125 32.3125 \nQ 14.796875 37.15625 21.921875 38.8125 \nz\nM 18.3125 54.390625 \nQ 18.3125 48.734375 21.84375 45.5625 \nQ 25.390625 42.390625 31.78125 42.390625 \nQ 38.140625 42.390625 41.71875 45.5625 \nQ 45.3125 48.734375 45.3125 54.390625 \nQ 45.3125 60.0625 41.71875 63.234375 \nQ 38.140625 66.40625 31.78125 66.40625 \nQ 25.390625 66.40625 21.84375 63.234375 \nQ 18.3125 60.0625 18.3125 54.390625 \nz\n\" id=\"DejaVuSans-56\"/>\n      </defs>\n      <g transform=\"translate(13.5625 107.070302)scale(0.1 -0.1)\">\n       <use xlink:href=\"#DejaVuSans-56\"/>\n       <use x=\"63.623047\" xlink:href=\"#DejaVuSans-48\"/>\n       <use x=\"127.246094\" xlink:href=\"#DejaVuSans-48\"/>\n      </g>\n     </g>\n    </g>\n    <g id=\"ytick_6\">\n     <g id=\"line2d_23\">\n      <path clip-path=\"url(#pdb0cd0968c)\" d=\"M 39.65 72.928854 \nL 374.45 72.928854 \n\" style=\"fill:none;stroke:#b0b0b0;stroke-linecap:square;stroke-width:0.8;\"/>\n     </g>\n     <g id=\"line2d_24\">\n      <g>\n       <use style=\"stroke:#000000;stroke-width:0.8;\" x=\"39.65\" xlink:href=\"#mf46881b959\" y=\"72.928854\"/>\n      </g>\n     </g>\n     <g id=\"text_12\">\n      <!-- 1000 -->\n      <g transform=\"translate(7.2 76.728073)scale(0.1 -0.1)\">\n       <use xlink:href=\"#DejaVuSans-49\"/>\n       <use x=\"63.623047\" xlink:href=\"#DejaVuSans-48\"/>\n       <use x=\"127.246094\" xlink:href=\"#DejaVuSans-48\"/>\n       <use x=\"190.869141\" xlink:href=\"#DejaVuSans-48\"/>\n      </g>\n     </g>\n    </g>\n    <g id=\"ytick_7\">\n     <g id=\"line2d_25\">\n      <path clip-path=\"url(#pdb0cd0968c)\" d=\"M 39.65 42.586625 \nL 374.45 42.586625 \n\" style=\"fill:none;stroke:#b0b0b0;stroke-linecap:square;stroke-width:0.8;\"/>\n     </g>\n     <g id=\"line2d_26\">\n      <g>\n       <use style=\"stroke:#000000;stroke-width:0.8;\" x=\"39.65\" xlink:href=\"#mf46881b959\" y=\"42.586625\"/>\n      </g>\n     </g>\n     <g id=\"text_13\">\n      <!-- 1200 -->\n      <g transform=\"translate(7.2 46.385844)scale(0.1 -0.1)\">\n       <use xlink:href=\"#DejaVuSans-49\"/>\n       <use x=\"63.623047\" xlink:href=\"#DejaVuSans-50\"/>\n       <use x=\"127.246094\" xlink:href=\"#DejaVuSans-48\"/>\n       <use x=\"190.869141\" xlink:href=\"#DejaVuSans-48\"/>\n      </g>\n     </g>\n    </g>\n    <g id=\"ytick_8\">\n     <g id=\"line2d_27\">\n      <path clip-path=\"url(#pdb0cd0968c)\" d=\"M 39.65 12.244396 \nL 374.45 12.244396 \n\" style=\"fill:none;stroke:#b0b0b0;stroke-linecap:square;stroke-width:0.8;\"/>\n     </g>\n     <g id=\"line2d_28\">\n      <g>\n       <use style=\"stroke:#000000;stroke-width:0.8;\" x=\"39.65\" xlink:href=\"#mf46881b959\" y=\"12.244396\"/>\n      </g>\n     </g>\n     <g id=\"text_14\">\n      <!-- 1400 -->\n      <g transform=\"translate(7.2 16.043614)scale(0.1 -0.1)\">\n       <use xlink:href=\"#DejaVuSans-49\"/>\n       <use x=\"63.623047\" xlink:href=\"#DejaVuSans-52\"/>\n       <use x=\"127.246094\" xlink:href=\"#DejaVuSans-48\"/>\n       <use x=\"190.869141\" xlink:href=\"#DejaVuSans-48\"/>\n      </g>\n     </g>\n    </g>\n   </g>\n   <g id=\"patch_13\">\n    <path d=\"M 39.65 224.64 \nL 39.65 7.2 \n\" style=\"fill:none;stroke:#000000;stroke-linecap:square;stroke-linejoin:miter;stroke-width:0.8;\"/>\n   </g>\n   <g id=\"patch_14\">\n    <path d=\"M 374.45 224.64 \nL 374.45 7.2 \n\" style=\"fill:none;stroke:#000000;stroke-linecap:square;stroke-linejoin:miter;stroke-width:0.8;\"/>\n   </g>\n   <g id=\"patch_15\">\n    <path d=\"M 39.65 224.64 \nL 374.45 224.64 \n\" style=\"fill:none;stroke:#000000;stroke-linecap:square;stroke-linejoin:miter;stroke-width:0.8;\"/>\n   </g>\n   <g id=\"patch_16\">\n    <path d=\"M 39.65 7.2 \nL 374.45 7.2 \n\" style=\"fill:none;stroke:#000000;stroke-linecap:square;stroke-linejoin:miter;stroke-width:0.8;\"/>\n   </g>\n  </g>\n </g>\n <defs>\n  <clipPath id=\"pdb0cd0968c\">\n   <rect height=\"217.44\" width=\"334.8\" x=\"39.65\" y=\"7.2\"/>\n  </clipPath>\n </defs>\n</svg>\n",
      "image/png": "[encoded data removed]"
     },
     "metadata": {
      "needs_background": "light"
     }
    }
   ],
   "source": [
    "train['Field Area'].hist()"
   ]
  },
  {
   "cell_type": "code",
   "execution_count": 49,
   "metadata": {},
   "outputs": [
    {
     "output_type": "execute_result",
     "data": {
      "text/plain": [
       "<matplotlib.axes._subplots.AxesSubplot at 0x7f243a758290>"
      ]
     },
     "metadata": {},
     "execution_count": 49
    },
    {
     "output_type": "display_data",
     "data": {
      "text/plain": "<Figure size 432x288 with 1 Axes>",
      "image/svg+xml": "<?xml version=\"1.0\" encoding=\"utf-8\" standalone=\"no\"?>\n<!DOCTYPE svg PUBLIC \"-//W3C//DTD SVG 1.1//EN\"\n  \"http://www.w3.org/Graphics/SVG/1.1/DTD/svg11.dtd\">\n<!-- Created with matplotlib (https://matplotlib.org/) -->\n<svg height=\"248.518125pt\" version=\"1.1\" viewBox=\"0 0 375.2875 248.518125\" width=\"375.2875pt\" xmlns=\"http://www.w3.org/2000/svg\" xmlns:xlink=\"http://www.w3.org/1999/xlink\">\n <defs>\n  <style type=\"text/css\">\n*{stroke-linecap:butt;stroke-linejoin:round;}\n  </style>\n </defs>\n <g id=\"figure_1\">\n  <g id=\"patch_1\">\n   <path d=\"M 0 248.518125 \nL 375.2875 248.518125 \nL 375.2875 0 \nL 0 0 \nz\n\" style=\"fill:none;\"/>\n  </g>\n  <g id=\"axes_1\">\n   <g id=\"patch_2\">\n    <path d=\"M 33.2875 224.64 \nL 368.0875 224.64 \nL 368.0875 7.2 \nL 33.2875 7.2 \nz\n\" style=\"fill:#ffffff;\"/>\n   </g>\n   <g id=\"patch_3\">\n    <path clip-path=\"url(#p8d977a347b)\" d=\"M 48.505682 224.64 \nL 78.942045 224.64 \nL 78.942045 17.554286 \nL 48.505682 17.554286 \nz\n\" style=\"fill:#1f77b4;\"/>\n   </g>\n   <g id=\"patch_4\">\n    <path clip-path=\"url(#p8d977a347b)\" d=\"M 78.942045 224.64 \nL 109.378409 224.64 \nL 109.378409 30.188162 \nL 78.942045 30.188162 \nz\n\" style=\"fill:#1f77b4;\"/>\n   </g>\n   <g id=\"patch_5\">\n    <path clip-path=\"url(#p8d977a347b)\" d=\"M 109.378409 224.64 \nL 139.814773 224.64 \nL 139.814773 159.273422 \nL 109.378409 159.273422 \nz\n\" style=\"fill:#1f77b4;\"/>\n   </g>\n   <g id=\"patch_6\">\n    <path clip-path=\"url(#p8d977a347b)\" d=\"M 139.814773 224.64 \nL 170.251136 224.64 \nL 170.251136 193.879257 \nL 139.814773 193.879257 \nz\n\" style=\"fill:#1f77b4;\"/>\n   </g>\n   <g id=\"patch_7\">\n    <path clip-path=\"url(#p8d977a347b)\" d=\"M 170.251136 224.64 \nL 200.6875 224.64 \nL 200.6875 214.203319 \nL 170.251136 214.203319 \nz\n\" style=\"fill:#1f77b4;\"/>\n   </g>\n   <g id=\"patch_8\">\n    <path clip-path=\"url(#p8d977a347b)\" d=\"M 200.6875 224.64 \nL 231.123864 224.64 \nL 231.123864 221.344206 \nL 200.6875 221.344206 \nz\n\" style=\"fill:#1f77b4;\"/>\n   </g>\n   <g id=\"patch_9\">\n    <path clip-path=\"url(#p8d977a347b)\" d=\"M 231.123864 224.64 \nL 261.560227 224.64 \nL 261.560227 222.442804 \nL 231.123864 222.442804 \nz\n\" style=\"fill:#1f77b4;\"/>\n   </g>\n   <g id=\"patch_10\">\n    <path clip-path=\"url(#p8d977a347b)\" d=\"M 261.560227 224.64 \nL 291.996591 224.64 \nL 291.996591 223.541402 \nL 261.560227 223.541402 \nz\n\" style=\"fill:#1f77b4;\"/>\n   </g>\n   <g id=\"patch_11\">\n    <path clip-path=\"url(#p8d977a347b)\" d=\"M 291.996591 224.64 \nL 322.432955 224.64 \nL 322.432955 224.090701 \nL 291.996591 224.090701 \nz\n\" style=\"fill:#1f77b4;\"/>\n   </g>\n   <g id=\"patch_12\">\n    <path clip-path=\"url(#p8d977a347b)\" d=\"M 322.432955 224.64 \nL 352.869318 224.64 \nL 352.869318 224.090701 \nL 322.432955 224.090701 \nz\n\" style=\"fill:#1f77b4;\"/>\n   </g>\n   <g id=\"matplotlib.axis_1\">\n    <g id=\"xtick_1\">\n     <g id=\"line2d_1\">\n      <path clip-path=\"url(#p8d977a347b)\" d=\"M 42.404246 224.64 \nL 42.404246 7.2 \n\" style=\"fill:none;stroke:#b0b0b0;stroke-linecap:square;stroke-width:0.8;\"/>\n     </g>\n     <g id=\"line2d_2\">\n      <defs>\n       <path d=\"M 0 0 \nL 0 3.5 \n\" id=\"m4410706200\" style=\"stroke:#000000;stroke-width:0.8;\"/>\n      </defs>\n      <g>\n       <use style=\"stroke:#000000;stroke-width:0.8;\" x=\"42.404246\" xlink:href=\"#m4410706200\" y=\"224.64\"/>\n      </g>\n     </g>\n     <g id=\"text_1\">\n      <!-- 0 -->\n      <defs>\n       <path d=\"M 31.78125 66.40625 \nQ 24.171875 66.40625 20.328125 58.90625 \nQ 16.5 51.421875 16.5 36.375 \nQ 16.5 21.390625 20.328125 13.890625 \nQ 24.171875 6.390625 31.78125 6.390625 \nQ 39.453125 6.390625 43.28125 13.890625 \nQ 47.125 21.390625 47.125 36.375 \nQ 47.125 51.421875 43.28125 58.90625 \nQ 39.453125 66.40625 31.78125 66.40625 \nz\nM 31.78125 74.21875 \nQ 44.046875 74.21875 50.515625 64.515625 \nQ 56.984375 54.828125 56.984375 36.375 \nQ 56.984375 17.96875 50.515625 8.265625 \nQ 44.046875 -1.421875 31.78125 -1.421875 \nQ 19.53125 -1.421875 13.0625 8.265625 \nQ 6.59375 17.96875 6.59375 36.375 \nQ 6.59375 54.828125 13.0625 64.515625 \nQ 19.53125 74.21875 31.78125 74.21875 \nz\n\" id=\"DejaVuSans-48\"/>\n      </defs>\n      <g transform=\"translate(39.222996 239.238437)scale(0.1 -0.1)\">\n       <use xlink:href=\"#DejaVuSans-48\"/>\n      </g>\n     </g>\n    </g>\n    <g id=\"xtick_2\">\n     <g id=\"line2d_3\">\n      <path clip-path=\"url(#p8d977a347b)\" d=\"M 89.302293 224.64 \nL 89.302293 7.2 \n\" style=\"fill:none;stroke:#b0b0b0;stroke-linecap:square;stroke-width:0.8;\"/>\n     </g>\n     <g id=\"line2d_4\">\n      <g>\n       <use style=\"stroke:#000000;stroke-width:0.8;\" x=\"89.302293\" xlink:href=\"#m4410706200\" y=\"224.64\"/>\n      </g>\n     </g>\n     <g id=\"text_2\">\n      <!-- 100 -->\n      <defs>\n       <path d=\"M 12.40625 8.296875 \nL 28.515625 8.296875 \nL 28.515625 63.921875 \nL 10.984375 60.40625 \nL 10.984375 69.390625 \nL 28.421875 72.90625 \nL 38.28125 72.90625 \nL 38.28125 8.296875 \nL 54.390625 8.296875 \nL 54.390625 0 \nL 12.40625 0 \nz\n\" id=\"DejaVuSans-49\"/>\n      </defs>\n      <g transform=\"translate(79.758543 239.238437)scale(0.1 -0.1)\">\n       <use xlink:href=\"#DejaVuSans-49\"/>\n       <use x=\"63.623047\" xlink:href=\"#DejaVuSans-48\"/>\n       <use x=\"127.246094\" xlink:href=\"#DejaVuSans-48\"/>\n      </g>\n     </g>\n    </g>\n    <g id=\"xtick_3\">\n     <g id=\"line2d_5\">\n      <path clip-path=\"url(#p8d977a347b)\" d=\"M 136.20034 224.64 \nL 136.20034 7.2 \n\" style=\"fill:none;stroke:#b0b0b0;stroke-linecap:square;stroke-width:0.8;\"/>\n     </g>\n     <g id=\"line2d_6\">\n      <g>\n       <use style=\"stroke:#000000;stroke-width:0.8;\" x=\"136.20034\" xlink:href=\"#m4410706200\" y=\"224.64\"/>\n      </g>\n     </g>\n     <g id=\"text_3\">\n      <!-- 200 -->\n      <defs>\n       <path d=\"M 19.1875 8.296875 \nL 53.609375 8.296875 \nL 53.609375 0 \nL 7.328125 0 \nL 7.328125 8.296875 \nQ 12.9375 14.109375 22.625 23.890625 \nQ 32.328125 33.6875 34.8125 36.53125 \nQ 39.546875 41.84375 41.421875 45.53125 \nQ 43.3125 49.21875 43.3125 52.78125 \nQ 43.3125 58.59375 39.234375 62.25 \nQ 35.15625 65.921875 28.609375 65.921875 \nQ 23.96875 65.921875 18.8125 64.3125 \nQ 13.671875 62.703125 7.8125 59.421875 \nL 7.8125 69.390625 \nQ 13.765625 71.78125 18.9375 73 \nQ 24.125 74.21875 28.421875 74.21875 \nQ 39.75 74.21875 46.484375 68.546875 \nQ 53.21875 62.890625 53.21875 53.421875 \nQ 53.21875 48.921875 51.53125 44.890625 \nQ 49.859375 40.875 45.40625 35.40625 \nQ 44.1875 33.984375 37.640625 27.21875 \nQ 31.109375 20.453125 19.1875 8.296875 \nz\n\" id=\"DejaVuSans-50\"/>\n      </defs>\n      <g transform=\"translate(126.65659 239.238437)scale(0.1 -0.1)\">\n       <use xlink:href=\"#DejaVuSans-50\"/>\n       <use x=\"63.623047\" xlink:href=\"#DejaVuSans-48\"/>\n       <use x=\"127.246094\" xlink:href=\"#DejaVuSans-48\"/>\n      </g>\n     </g>\n    </g>\n    <g id=\"xtick_4\">\n     <g id=\"line2d_7\">\n      <path clip-path=\"url(#p8d977a347b)\" d=\"M 183.098387 224.64 \nL 183.098387 7.2 \n\" style=\"fill:none;stroke:#b0b0b0;stroke-linecap:square;stroke-width:0.8;\"/>\n     </g>\n     <g id=\"line2d_8\">\n      <g>\n       <use style=\"stroke:#000000;stroke-width:0.8;\" x=\"183.098387\" xlink:href=\"#m4410706200\" y=\"224.64\"/>\n      </g>\n     </g>\n     <g id=\"text_4\">\n      <!-- 300 -->\n      <defs>\n       <path d=\"M 40.578125 39.3125 \nQ 47.65625 37.796875 51.625 33 \nQ 55.609375 28.21875 55.609375 21.1875 \nQ 55.609375 10.40625 48.1875 4.484375 \nQ 40.765625 -1.421875 27.09375 -1.421875 \nQ 22.515625 -1.421875 17.65625 -0.515625 \nQ 12.796875 0.390625 7.625 2.203125 \nL 7.625 11.71875 \nQ 11.71875 9.328125 16.59375 8.109375 \nQ 21.484375 6.890625 26.8125 6.890625 \nQ 36.078125 6.890625 40.9375 10.546875 \nQ 45.796875 14.203125 45.796875 21.1875 \nQ 45.796875 27.640625 41.28125 31.265625 \nQ 36.765625 34.90625 28.71875 34.90625 \nL 20.21875 34.90625 \nL 20.21875 43.015625 \nL 29.109375 43.015625 \nQ 36.375 43.015625 40.234375 45.921875 \nQ 44.09375 48.828125 44.09375 54.296875 \nQ 44.09375 59.90625 40.109375 62.90625 \nQ 36.140625 65.921875 28.71875 65.921875 \nQ 24.65625 65.921875 20.015625 65.03125 \nQ 15.375 64.15625 9.8125 62.3125 \nL 9.8125 71.09375 \nQ 15.4375 72.65625 20.34375 73.4375 \nQ 25.25 74.21875 29.59375 74.21875 \nQ 40.828125 74.21875 47.359375 69.109375 \nQ 53.90625 64.015625 53.90625 55.328125 \nQ 53.90625 49.265625 50.4375 45.09375 \nQ 46.96875 40.921875 40.578125 39.3125 \nz\n\" id=\"DejaVuSans-51\"/>\n      </defs>\n      <g transform=\"translate(173.554637 239.238437)scale(0.1 -0.1)\">\n       <use xlink:href=\"#DejaVuSans-51\"/>\n       <use x=\"63.623047\" xlink:href=\"#DejaVuSans-48\"/>\n       <use x=\"127.246094\" xlink:href=\"#DejaVuSans-48\"/>\n      </g>\n     </g>\n    </g>\n    <g id=\"xtick_5\">\n     <g id=\"line2d_9\">\n      <path clip-path=\"url(#p8d977a347b)\" d=\"M 229.996435 224.64 \nL 229.996435 7.2 \n\" style=\"fill:none;stroke:#b0b0b0;stroke-linecap:square;stroke-width:0.8;\"/>\n     </g>\n     <g id=\"line2d_10\">\n      <g>\n       <use style=\"stroke:#000000;stroke-width:0.8;\" x=\"229.996435\" xlink:href=\"#m4410706200\" y=\"224.64\"/>\n      </g>\n     </g>\n     <g id=\"text_5\">\n      <!-- 400 -->\n      <defs>\n       <path d=\"M 37.796875 64.3125 \nL 12.890625 25.390625 \nL 37.796875 25.390625 \nz\nM 35.203125 72.90625 \nL 47.609375 72.90625 \nL 47.609375 25.390625 \nL 58.015625 25.390625 \nL 58.015625 17.1875 \nL 47.609375 17.1875 \nL 47.609375 0 \nL 37.796875 0 \nL 37.796875 17.1875 \nL 4.890625 17.1875 \nL 4.890625 26.703125 \nz\n\" id=\"DejaVuSans-52\"/>\n      </defs>\n      <g transform=\"translate(220.452685 239.238437)scale(0.1 -0.1)\">\n       <use xlink:href=\"#DejaVuSans-52\"/>\n       <use x=\"63.623047\" xlink:href=\"#DejaVuSans-48\"/>\n       <use x=\"127.246094\" xlink:href=\"#DejaVuSans-48\"/>\n      </g>\n     </g>\n    </g>\n    <g id=\"xtick_6\">\n     <g id=\"line2d_11\">\n      <path clip-path=\"url(#p8d977a347b)\" d=\"M 276.894482 224.64 \nL 276.894482 7.2 \n\" style=\"fill:none;stroke:#b0b0b0;stroke-linecap:square;stroke-width:0.8;\"/>\n     </g>\n     <g id=\"line2d_12\">\n      <g>\n       <use style=\"stroke:#000000;stroke-width:0.8;\" x=\"276.894482\" xlink:href=\"#m4410706200\" y=\"224.64\"/>\n      </g>\n     </g>\n     <g id=\"text_6\">\n      <!-- 500 -->\n      <defs>\n       <path d=\"M 10.796875 72.90625 \nL 49.515625 72.90625 \nL 49.515625 64.59375 \nL 19.828125 64.59375 \nL 19.828125 46.734375 \nQ 21.96875 47.46875 24.109375 47.828125 \nQ 26.265625 48.1875 28.421875 48.1875 \nQ 40.625 48.1875 47.75 41.5 \nQ 54.890625 34.8125 54.890625 23.390625 \nQ 54.890625 11.625 47.5625 5.09375 \nQ 40.234375 -1.421875 26.90625 -1.421875 \nQ 22.3125 -1.421875 17.546875 -0.640625 \nQ 12.796875 0.140625 7.71875 1.703125 \nL 7.71875 11.625 \nQ 12.109375 9.234375 16.796875 8.0625 \nQ 21.484375 6.890625 26.703125 6.890625 \nQ 35.15625 6.890625 40.078125 11.328125 \nQ 45.015625 15.765625 45.015625 23.390625 \nQ 45.015625 31 40.078125 35.4375 \nQ 35.15625 39.890625 26.703125 39.890625 \nQ 22.75 39.890625 18.8125 39.015625 \nQ 14.890625 38.140625 10.796875 36.28125 \nz\n\" id=\"DejaVuSans-53\"/>\n      </defs>\n      <g transform=\"translate(267.350732 239.238437)scale(0.1 -0.1)\">\n       <use xlink:href=\"#DejaVuSans-53\"/>\n       <use x=\"63.623047\" xlink:href=\"#DejaVuSans-48\"/>\n       <use x=\"127.246094\" xlink:href=\"#DejaVuSans-48\"/>\n      </g>\n     </g>\n    </g>\n    <g id=\"xtick_7\">\n     <g id=\"line2d_13\">\n      <path clip-path=\"url(#p8d977a347b)\" d=\"M 323.792529 224.64 \nL 323.792529 7.2 \n\" style=\"fill:none;stroke:#b0b0b0;stroke-linecap:square;stroke-width:0.8;\"/>\n     </g>\n     <g id=\"line2d_14\">\n      <g>\n       <use style=\"stroke:#000000;stroke-width:0.8;\" x=\"323.792529\" xlink:href=\"#m4410706200\" y=\"224.64\"/>\n      </g>\n     </g>\n     <g id=\"text_7\">\n      <!-- 600 -->\n      <defs>\n       <path d=\"M 33.015625 40.375 \nQ 26.375 40.375 22.484375 35.828125 \nQ 18.609375 31.296875 18.609375 23.390625 \nQ 18.609375 15.53125 22.484375 10.953125 \nQ 26.375 6.390625 33.015625 6.390625 \nQ 39.65625 6.390625 43.53125 10.953125 \nQ 47.40625 15.53125 47.40625 23.390625 \nQ 47.40625 31.296875 43.53125 35.828125 \nQ 39.65625 40.375 33.015625 40.375 \nz\nM 52.59375 71.296875 \nL 52.59375 62.3125 \nQ 48.875 64.0625 45.09375 64.984375 \nQ 41.3125 65.921875 37.59375 65.921875 \nQ 27.828125 65.921875 22.671875 59.328125 \nQ 17.53125 52.734375 16.796875 39.40625 \nQ 19.671875 43.65625 24.015625 45.921875 \nQ 28.375 48.1875 33.59375 48.1875 \nQ 44.578125 48.1875 50.953125 41.515625 \nQ 57.328125 34.859375 57.328125 23.390625 \nQ 57.328125 12.15625 50.6875 5.359375 \nQ 44.046875 -1.421875 33.015625 -1.421875 \nQ 20.359375 -1.421875 13.671875 8.265625 \nQ 6.984375 17.96875 6.984375 36.375 \nQ 6.984375 53.65625 15.1875 63.9375 \nQ 23.390625 74.21875 37.203125 74.21875 \nQ 40.921875 74.21875 44.703125 73.484375 \nQ 48.484375 72.75 52.59375 71.296875 \nz\n\" id=\"DejaVuSans-54\"/>\n      </defs>\n      <g transform=\"translate(314.248779 239.238437)scale(0.1 -0.1)\">\n       <use xlink:href=\"#DejaVuSans-54\"/>\n       <use x=\"63.623047\" xlink:href=\"#DejaVuSans-48\"/>\n       <use x=\"127.246094\" xlink:href=\"#DejaVuSans-48\"/>\n      </g>\n     </g>\n    </g>\n   </g>\n   <g id=\"matplotlib.axis_2\">\n    <g id=\"ytick_1\">\n     <g id=\"line2d_15\">\n      <path clip-path=\"url(#p8d977a347b)\" d=\"M 33.2875 224.64 \nL 368.0875 224.64 \n\" style=\"fill:none;stroke:#b0b0b0;stroke-linecap:square;stroke-width:0.8;\"/>\n     </g>\n     <g id=\"line2d_16\">\n      <defs>\n       <path d=\"M 0 0 \nL -3.5 0 \n\" id=\"m3bb8aec6e4\" style=\"stroke:#000000;stroke-width:0.8;\"/>\n      </defs>\n      <g>\n       <use style=\"stroke:#000000;stroke-width:0.8;\" x=\"33.2875\" xlink:href=\"#m3bb8aec6e4\" y=\"224.64\"/>\n      </g>\n     </g>\n     <g id=\"text_8\">\n      <!-- 0 -->\n      <g transform=\"translate(19.925 228.439219)scale(0.1 -0.1)\">\n       <use xlink:href=\"#DejaVuSans-48\"/>\n      </g>\n     </g>\n    </g>\n    <g id=\"ytick_2\">\n     <g id=\"line2d_17\">\n      <path clip-path=\"url(#p8d977a347b)\" d=\"M 33.2875 197.175051 \nL 368.0875 197.175051 \n\" style=\"fill:none;stroke:#b0b0b0;stroke-linecap:square;stroke-width:0.8;\"/>\n     </g>\n     <g id=\"line2d_18\">\n      <g>\n       <use style=\"stroke:#000000;stroke-width:0.8;\" x=\"33.2875\" xlink:href=\"#m3bb8aec6e4\" y=\"197.175051\"/>\n      </g>\n     </g>\n     <g id=\"text_9\">\n      <!-- 50 -->\n      <g transform=\"translate(13.5625 200.97427)scale(0.1 -0.1)\">\n       <use xlink:href=\"#DejaVuSans-53\"/>\n       <use x=\"63.623047\" xlink:href=\"#DejaVuSans-48\"/>\n      </g>\n     </g>\n    </g>\n    <g id=\"ytick_3\">\n     <g id=\"line2d_19\">\n      <path clip-path=\"url(#p8d977a347b)\" d=\"M 33.2875 169.710102 \nL 368.0875 169.710102 \n\" style=\"fill:none;stroke:#b0b0b0;stroke-linecap:square;stroke-width:0.8;\"/>\n     </g>\n     <g id=\"line2d_20\">\n      <g>\n       <use style=\"stroke:#000000;stroke-width:0.8;\" x=\"33.2875\" xlink:href=\"#m3bb8aec6e4\" y=\"169.710102\"/>\n      </g>\n     </g>\n     <g id=\"text_10\">\n      <!-- 100 -->\n      <g transform=\"translate(7.2 173.509321)scale(0.1 -0.1)\">\n       <use xlink:href=\"#DejaVuSans-49\"/>\n       <use x=\"63.623047\" xlink:href=\"#DejaVuSans-48\"/>\n       <use x=\"127.246094\" xlink:href=\"#DejaVuSans-48\"/>\n      </g>\n     </g>\n    </g>\n    <g id=\"ytick_4\">\n     <g id=\"line2d_21\">\n      <path clip-path=\"url(#p8d977a347b)\" d=\"M 33.2875 142.245153 \nL 368.0875 142.245153 \n\" style=\"fill:none;stroke:#b0b0b0;stroke-linecap:square;stroke-width:0.8;\"/>\n     </g>\n     <g id=\"line2d_22\">\n      <g>\n       <use style=\"stroke:#000000;stroke-width:0.8;\" x=\"33.2875\" xlink:href=\"#m3bb8aec6e4\" y=\"142.245153\"/>\n      </g>\n     </g>\n     <g id=\"text_11\">\n      <!-- 150 -->\n      <g transform=\"translate(7.2 146.044372)scale(0.1 -0.1)\">\n       <use xlink:href=\"#DejaVuSans-49\"/>\n       <use x=\"63.623047\" xlink:href=\"#DejaVuSans-53\"/>\n       <use x=\"127.246094\" xlink:href=\"#DejaVuSans-48\"/>\n      </g>\n     </g>\n    </g>\n    <g id=\"ytick_5\">\n     <g id=\"line2d_23\">\n      <path clip-path=\"url(#p8d977a347b)\" d=\"M 33.2875 114.780205 \nL 368.0875 114.780205 \n\" style=\"fill:none;stroke:#b0b0b0;stroke-linecap:square;stroke-width:0.8;\"/>\n     </g>\n     <g id=\"line2d_24\">\n      <g>\n       <use style=\"stroke:#000000;stroke-width:0.8;\" x=\"33.2875\" xlink:href=\"#m3bb8aec6e4\" y=\"114.780205\"/>\n      </g>\n     </g>\n     <g id=\"text_12\">\n      <!-- 200 -->\n      <g transform=\"translate(7.2 118.579423)scale(0.1 -0.1)\">\n       <use xlink:href=\"#DejaVuSans-50\"/>\n       <use x=\"63.623047\" xlink:href=\"#DejaVuSans-48\"/>\n       <use x=\"127.246094\" xlink:href=\"#DejaVuSans-48\"/>\n      </g>\n     </g>\n    </g>\n    <g id=\"ytick_6\">\n     <g id=\"line2d_25\">\n      <path clip-path=\"url(#p8d977a347b)\" d=\"M 33.2875 87.315256 \nL 368.0875 87.315256 \n\" style=\"fill:none;stroke:#b0b0b0;stroke-linecap:square;stroke-width:0.8;\"/>\n     </g>\n     <g id=\"line2d_26\">\n      <g>\n       <use style=\"stroke:#000000;stroke-width:0.8;\" x=\"33.2875\" xlink:href=\"#m3bb8aec6e4\" y=\"87.315256\"/>\n      </g>\n     </g>\n     <g id=\"text_13\">\n      <!-- 250 -->\n      <g transform=\"translate(7.2 91.114475)scale(0.1 -0.1)\">\n       <use xlink:href=\"#DejaVuSans-50\"/>\n       <use x=\"63.623047\" xlink:href=\"#DejaVuSans-53\"/>\n       <use x=\"127.246094\" xlink:href=\"#DejaVuSans-48\"/>\n      </g>\n     </g>\n    </g>\n    <g id=\"ytick_7\">\n     <g id=\"line2d_27\">\n      <path clip-path=\"url(#p8d977a347b)\" d=\"M 33.2875 59.850307 \nL 368.0875 59.850307 \n\" style=\"fill:none;stroke:#b0b0b0;stroke-linecap:square;stroke-width:0.8;\"/>\n     </g>\n     <g id=\"line2d_28\">\n      <g>\n       <use style=\"stroke:#000000;stroke-width:0.8;\" x=\"33.2875\" xlink:href=\"#m3bb8aec6e4\" y=\"59.850307\"/>\n      </g>\n     </g>\n     <g id=\"text_14\">\n      <!-- 300 -->\n      <g transform=\"translate(7.2 63.649526)scale(0.1 -0.1)\">\n       <use xlink:href=\"#DejaVuSans-51\"/>\n       <use x=\"63.623047\" xlink:href=\"#DejaVuSans-48\"/>\n       <use x=\"127.246094\" xlink:href=\"#DejaVuSans-48\"/>\n      </g>\n     </g>\n    </g>\n    <g id=\"ytick_8\">\n     <g id=\"line2d_29\">\n      <path clip-path=\"url(#p8d977a347b)\" d=\"M 33.2875 32.385358 \nL 368.0875 32.385358 \n\" style=\"fill:none;stroke:#b0b0b0;stroke-linecap:square;stroke-width:0.8;\"/>\n     </g>\n     <g id=\"line2d_30\">\n      <g>\n       <use style=\"stroke:#000000;stroke-width:0.8;\" x=\"33.2875\" xlink:href=\"#m3bb8aec6e4\" y=\"32.385358\"/>\n      </g>\n     </g>\n     <g id=\"text_15\">\n      <!-- 350 -->\n      <g transform=\"translate(7.2 36.184577)scale(0.1 -0.1)\">\n       <use xlink:href=\"#DejaVuSans-51\"/>\n       <use x=\"63.623047\" xlink:href=\"#DejaVuSans-53\"/>\n       <use x=\"127.246094\" xlink:href=\"#DejaVuSans-48\"/>\n      </g>\n     </g>\n    </g>\n   </g>\n   <g id=\"patch_13\">\n    <path d=\"M 33.2875 224.64 \nL 33.2875 7.2 \n\" style=\"fill:none;stroke:#000000;stroke-linecap:square;stroke-linejoin:miter;stroke-width:0.8;\"/>\n   </g>\n   <g id=\"patch_14\">\n    <path d=\"M 368.0875 224.64 \nL 368.0875 7.2 \n\" style=\"fill:none;stroke:#000000;stroke-linecap:square;stroke-linejoin:miter;stroke-width:0.8;\"/>\n   </g>\n   <g id=\"patch_15\">\n    <path d=\"M 33.2875 224.64 \nL 368.0875 224.64 \n\" style=\"fill:none;stroke:#000000;stroke-linecap:square;stroke-linejoin:miter;stroke-width:0.8;\"/>\n   </g>\n   <g id=\"patch_16\">\n    <path d=\"M 33.2875 7.2 \nL 368.0875 7.2 \n\" style=\"fill:none;stroke:#000000;stroke-linecap:square;stroke-linejoin:miter;stroke-width:0.8;\"/>\n   </g>\n  </g>\n </g>\n <defs>\n  <clipPath id=\"p8d977a347b\">\n   <rect height=\"217.44\" width=\"334.8\" x=\"33.2875\" y=\"7.2\"/>\n  </clipPath>\n </defs>\n</svg>\n",
      "image/png": "[encoded data removed]"
     },
     "metadata": {
      "needs_background": "light"
     }
    }
   ],
   "source": [
    "test['Field Area'].hist()"
   ]
  },
  {
   "source": [
    "### Оставлю только 2019 год"
   ],
   "cell_type": "markdown",
   "metadata": {}
  },
  {
   "cell_type": "code",
   "execution_count": 51,
   "metadata": {},
   "outputs": [],
   "source": [
    "train_2019 = train[train['Year'] == 2019]"
   ]
  },
  {
   "cell_type": "code",
   "execution_count": 56,
   "metadata": {},
   "outputs": [
    {
     "output_type": "execute_result",
     "data": {
      "text/plain": [
       "    Year  Field ID  Field Area   Day 1   Day 2   Day 3   Day 4   Day 5  \\\n",
       "1   2019      1395       80.41  0.1159  0.1096  0.1034  0.0971  0.0909   \n",
       "13  2019      1184      226.81 -0.0104 -0.0108 -0.0112 -0.0116 -0.0120   \n",
       "14  2019       622      102.09 -0.0295 -0.0294 -0.0293 -0.0290 -0.0287   \n",
       "19  2019      1347      108.75 -0.0530 -0.0526 -0.0522 -0.0518 -0.0514   \n",
       "22  2019      1872       83.83  0.0797  0.0742  0.0688  0.0633  0.0579   \n",
       "\n",
       "     Day 6   Day 7  ...  Day 358  Day 359  Day 360  Day 361  Day 362  Day 363  \\\n",
       "1   0.0846  0.0783  ...      NaN      NaN      NaN      NaN      NaN      NaN   \n",
       "13 -0.0124 -0.0128  ...      NaN      NaN      NaN      NaN      NaN      NaN   \n",
       "14 -0.0284 -0.0280  ...      NaN      NaN      NaN      NaN      NaN      NaN   \n",
       "19 -0.0510 -0.0506  ...      NaN      NaN      NaN      NaN      NaN      NaN   \n",
       "22  0.0524  0.0470  ...      NaN      NaN      NaN      NaN      NaN      NaN   \n",
       "\n",
       "    Day 364  Day 365  Day 366  Culture  \n",
       "1       NaN      NaN      NaN       17  \n",
       "13      NaN      NaN      NaN        7  \n",
       "14      NaN      NaN      NaN        4  \n",
       "19      NaN      NaN      NaN        7  \n",
       "22      NaN      NaN      NaN        5  \n",
       "\n",
       "[5 rows x 370 columns]"
      ],
      "text/html": "<div>\n<style scoped>\n    .dataframe tbody tr th:only-of-type {\n        vertical-align: middle;\n    }\n\n    .dataframe tbody tr th {\n        vertical-align: top;\n    }\n\n    .dataframe thead th {\n        text-align: right;\n    }\n</style>\n<table border=\"1\" class=\"dataframe\">\n  <thead>\n    <tr style=\"text-align: right;\">\n      <th></th>\n      <th>Year</th>\n      <th>Field ID</th>\n      <th>Field Area</th>\n      <th>Day 1</th>\n      <th>Day 2</th>\n      <th>Day 3</th>\n      <th>Day 4</th>\n      <th>Day 5</th>\n      <th>Day 6</th>\n      <th>Day 7</th>\n      <th>...</th>\n      <th>Day 358</th>\n      <th>Day 359</th>\n      <th>Day 360</th>\n      <th>Day 361</th>\n      <th>Day 362</th>\n      <th>Day 363</th>\n      <th>Day 364</th>\n      <th>Day 365</th>\n      <th>Day 366</th>\n      <th>Culture</th>\n    </tr>\n  </thead>\n  <tbody>\n    <tr>\n      <th>1</th>\n      <td>2019</td>\n      <td>1395</td>\n      <td>80.41</td>\n      <td>0.1159</td>\n      <td>0.1096</td>\n      <td>0.1034</td>\n      <td>0.0971</td>\n      <td>0.0909</td>\n      <td>0.0846</td>\n      <td>0.0783</td>\n      <td>...</td>\n      <td>NaN</td>\n      <td>NaN</td>\n      <td>NaN</td>\n      <td>NaN</td>\n      <td>NaN</td>\n      <td>NaN</td>\n      <td>NaN</td>\n      <td>NaN</td>\n      <td>NaN</td>\n      <td>17</td>\n    </tr>\n    <tr>\n      <th>13</th>\n      <td>2019</td>\n      <td>1184</td>\n      <td>226.81</td>\n      <td>-0.0104</td>\n      <td>-0.0108</td>\n      <td>-0.0112</td>\n      <td>-0.0116</td>\n      <td>-0.0120</td>\n      <td>-0.0124</td>\n      <td>-0.0128</td>\n      <td>...</td>\n      <td>NaN</td>\n      <td>NaN</td>\n      <td>NaN</td>\n      <td>NaN</td>\n      <td>NaN</td>\n      <td>NaN</td>\n      <td>NaN</td>\n      <td>NaN</td>\n      <td>NaN</td>\n      <td>7</td>\n    </tr>\n    <tr>\n      <th>14</th>\n      <td>2019</td>\n      <td>622</td>\n      <td>102.09</td>\n      <td>-0.0295</td>\n      <td>-0.0294</td>\n      <td>-0.0293</td>\n      <td>-0.0290</td>\n      <td>-0.0287</td>\n      <td>-0.0284</td>\n      <td>-0.0280</td>\n      <td>...</td>\n      <td>NaN</td>\n      <td>NaN</td>\n      <td>NaN</td>\n      <td>NaN</td>\n      <td>NaN</td>\n      <td>NaN</td>\n      <td>NaN</td>\n      <td>NaN</td>\n      <td>NaN</td>\n      <td>4</td>\n    </tr>\n    <tr>\n      <th>19</th>\n      <td>2019</td>\n      <td>1347</td>\n      <td>108.75</td>\n      <td>-0.0530</td>\n      <td>-0.0526</td>\n      <td>-0.0522</td>\n      <td>-0.0518</td>\n      <td>-0.0514</td>\n      <td>-0.0510</td>\n      <td>-0.0506</td>\n      <td>...</td>\n      <td>NaN</td>\n      <td>NaN</td>\n      <td>NaN</td>\n      <td>NaN</td>\n      <td>NaN</td>\n      <td>NaN</td>\n      <td>NaN</td>\n      <td>NaN</td>\n      <td>NaN</td>\n      <td>7</td>\n    </tr>\n    <tr>\n      <th>22</th>\n      <td>2019</td>\n      <td>1872</td>\n      <td>83.83</td>\n      <td>0.0797</td>\n      <td>0.0742</td>\n      <td>0.0688</td>\n      <td>0.0633</td>\n      <td>0.0579</td>\n      <td>0.0524</td>\n      <td>0.0470</td>\n      <td>...</td>\n      <td>NaN</td>\n      <td>NaN</td>\n      <td>NaN</td>\n      <td>NaN</td>\n      <td>NaN</td>\n      <td>NaN</td>\n      <td>NaN</td>\n      <td>NaN</td>\n      <td>NaN</td>\n      <td>5</td>\n    </tr>\n  </tbody>\n</table>\n<p>5 rows × 370 columns</p>\n</div>"
     },
     "metadata": {},
     "execution_count": 56
    }
   ],
   "source": [
    "train_2019.head()"
   ]
  },
  {
   "cell_type": "code",
   "execution_count": 74,
   "metadata": {},
   "outputs": [],
   "source": [
    "no_nan_columns_amount = 4+max_nan_test\n",
    "train_X = train_2019.iloc[:, :no_nan_columns_amount]\n",
    "test_X = test.iloc[:, :no_nan_columns_amount]"
   ]
  },
  {
   "cell_type": "code",
   "execution_count": 75,
   "metadata": {},
   "outputs": [
    {
     "output_type": "execute_result",
     "data": {
      "text/plain": [
       "False"
      ]
     },
     "metadata": {},
     "execution_count": 75
    }
   ],
   "source": [
    "train_X.isna().any().any()"
   ]
  },
  {
   "cell_type": "code",
   "execution_count": 76,
   "metadata": {},
   "outputs": [
    {
     "output_type": "execute_result",
     "data": {
      "text/plain": [
       "False"
      ]
     },
     "metadata": {},
     "execution_count": 76
    }
   ],
   "source": [
    "test_X.isna().any().any()"
   ]
  },
  {
   "cell_type": "code",
   "execution_count": 77,
   "metadata": {},
   "outputs": [],
   "source": [
    "# drop year because it is almost constant, field id needs investigation\n",
    "cols_to_drop = ['Year', 'Field ID']\n",
    "train_X = train_X.drop(columns=cols_to_drop)\n",
    "test_X = test_X.drop(columns=cols_to_drop)"
   ]
  },
  {
   "cell_type": "code",
   "execution_count": 102,
   "metadata": {},
   "outputs": [
    {
     "output_type": "stream",
     "name": "stdout",
     "text": [
      "0.5659259259259258\n"
     ]
    }
   ],
   "source": [
    "from sklearn.model_selection import train_test_split\n",
    "from sklearn.preprocessing import StandardScaler\n",
    "from sklearn.linear_model import RidgeClassifier\n",
    "from sklearn.metrics import f1_score\n",
    "\n",
    "\n",
    "X_train, X_val, y_train, y_val = train_test_split(train_X, train_2019.loc[:, 'Culture'], random_state=2324, train_size=0.8)\n",
    "\n",
    "std_scaler = StandardScaler()\n",
    "train_scaled = std_scaler.fit_transform(X_train)\n",
    "val_scaled = std_scaler.transform(X_val)\n",
    "\n",
    "ridge = RidgeClassifier(alpha=0.01, random_state=2324)\n",
    "ridge.fit(train_scaled, y_train)\n",
    "preds = ridge.predict(val_scaled)\n",
    "print(f1_score(y_val, preds, average='weighted'))"
   ]
  },
  {
   "cell_type": "code",
   "execution_count": 103,
   "metadata": {},
   "outputs": [],
   "source": [
    "test_scaled = std_scaler.transform(test_X)\n",
    "test_preds = ridge.predict(test_scaled)"
   ]
  },
  {
   "cell_type": "code",
   "execution_count": 105,
   "metadata": {},
   "outputs": [],
   "source": [
    "csv = pd.read_csv(RAW_DATA_FOLDER / 'example_csv_agrocode-task1.csv')"
   ]
  },
  {
   "cell_type": "code",
   "execution_count": 107,
   "metadata": {},
   "outputs": [
    {
     "output_type": "execute_result",
     "data": {
      "text/plain": [
       "     Culture\n",
       "0          0\n",
       "1          0\n",
       "2          0\n",
       "3          0\n",
       "4          0\n",
       "..       ...\n",
       "934        0\n",
       "935        0\n",
       "936        0\n",
       "937        0\n",
       "938        0\n",
       "\n",
       "[939 rows x 1 columns]"
      ],
      "text/html": "<div>\n<style scoped>\n    .dataframe tbody tr th:only-of-type {\n        vertical-align: middle;\n    }\n\n    .dataframe tbody tr th {\n        vertical-align: top;\n    }\n\n    .dataframe thead th {\n        text-align: right;\n    }\n</style>\n<table border=\"1\" class=\"dataframe\">\n  <thead>\n    <tr style=\"text-align: right;\">\n      <th></th>\n      <th>Culture</th>\n    </tr>\n  </thead>\n  <tbody>\n    <tr>\n      <th>0</th>\n      <td>0</td>\n    </tr>\n    <tr>\n      <th>1</th>\n      <td>0</td>\n    </tr>\n    <tr>\n      <th>2</th>\n      <td>0</td>\n    </tr>\n    <tr>\n      <th>3</th>\n      <td>0</td>\n    </tr>\n    <tr>\n      <th>4</th>\n      <td>0</td>\n    </tr>\n    <tr>\n      <th>...</th>\n      <td>...</td>\n    </tr>\n    <tr>\n      <th>934</th>\n      <td>0</td>\n    </tr>\n    <tr>\n      <th>935</th>\n      <td>0</td>\n    </tr>\n    <tr>\n      <th>936</th>\n      <td>0</td>\n    </tr>\n    <tr>\n      <th>937</th>\n      <td>0</td>\n    </tr>\n    <tr>\n      <th>938</th>\n      <td>0</td>\n    </tr>\n  </tbody>\n</table>\n<p>939 rows × 1 columns</p>\n</div>"
     },
     "metadata": {},
     "execution_count": 107
    }
   ],
   "source": [
    "csv"
   ]
  },
  {
   "cell_type": "code",
   "execution_count": 127,
   "metadata": {},
   "outputs": [],
   "source": [
    "pd.DataFrame(test_preds, columns=['Culture']).to_csv(SUBMISSIONS_DATA_FOLDER / 'subm_1.csv', index=False)"
   ]
  },
  {
   "cell_type": "code",
   "execution_count": null,
   "metadata": {},
   "outputs": [],
   "source": []
  }
 ]
}